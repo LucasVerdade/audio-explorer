{
 "cells": [
  {
   "cell_type": "code",
   "execution_count": 22,
   "metadata": {},
   "outputs": [
    {
     "data": {
      "text/html": [
       "        <script type=\"text/javascript\">\n",
       "        window.PlotlyConfig = {MathJaxConfig: 'local'};\n",
       "        if (window.MathJax) {MathJax.Hub.Config({SVG: {font: \"STIX-Web\"}});}\n",
       "        if (typeof require !== 'undefined') {\n",
       "        require.undef(\"plotly\");\n",
       "        requirejs.config({\n",
       "            paths: {\n",
       "                'plotly': ['https://cdn.plot.ly/plotly-latest.min']\n",
       "            }\n",
       "        });\n",
       "        require(['plotly'], function(Plotly) {\n",
       "            window._Plotly = Plotly;\n",
       "        });\n",
       "        }\n",
       "        </script>\n",
       "        "
      ]
     },
     "metadata": {},
     "output_type": "display_data"
    }
   ],
   "source": [
    "%matplotlib inline\n",
    "\n",
    "import os\n",
    "import sys\n",
    "import glob\n",
    "import pandas as pd"
   ]
  },
  {
   "cell_type": "code",
   "execution_count": 23,
   "metadata": {},
   "outputs": [],
   "source": [
    "features_dir = '../data/features/samples/'\n",
    "features_all = glob.glob(os.path.join(features_dir, '*all.csv'))\n",
    "\n",
    "dfs = []\n",
    "\n",
    "for path in features_all:\n",
    "    stem = path[:path.find('-all')]\n",
    "    noise_path = stem + '-noise.csv'\n",
    "    petrel_path = stem + '-petrel.csv'\n",
    "    all_df = pd.read_csv(path)\n",
    "    noise_df = pd.read_csv(noise_path)\n",
    "    petrel_df = pd.read_csv(petrel_path)\n",
    "    all_df_noise = all_df.loc[noise_df['id']].copy()\n",
    "    all_df_noise['petrel'] = 0\n",
    "    all_df_petrel = all_df.loc[petrel_df['id']].copy()\n",
    "    all_df_petrel['petrel'] = 1\n",
    "    df = pd.concat([all_df_noise, all_df_petrel])\n",
    "    df['filename'] = os.path.basename(stem)\n",
    "    dfs.append(df)\n",
    "    \n",
    "df = pd.concat(dfs)"
   ]
  },
  {
   "cell_type": "code",
   "execution_count": 24,
   "metadata": {},
   "outputs": [],
   "source": [
    "df = df.drop(columns=['freq_peak.2', 'freq_peak.3', 'id'])\n",
    "df = df.rename(columns={'freq_peak.1': 'freq_peak'})"
   ]
  },
  {
   "cell_type": "code",
   "execution_count": 25,
   "metadata": {},
   "outputs": [],
   "source": [
    "df.to_csv('../data/features/samples_all.csv', index=False)"
   ]
  },
  {
   "cell_type": "code",
   "execution_count": null,
   "metadata": {},
   "outputs": [],
   "source": []
  }
 ],
 "metadata": {
  "kernelspec": {
   "display_name": "Python 3",
   "language": "python",
   "name": "python3"
  },
  "language_info": {
   "codemirror_mode": {
    "name": "ipython",
    "version": 3
   },
   "file_extension": ".py",
   "mimetype": "text/x-python",
   "name": "python",
   "nbconvert_exporter": "python",
   "pygments_lexer": "ipython3",
   "version": "3.6.8"
  }
 },
 "nbformat": 4,
 "nbformat_minor": 2
}
