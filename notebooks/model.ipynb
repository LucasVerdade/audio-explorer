{
 "cells": [
  {
   "cell_type": "code",
   "execution_count": 1,
   "metadata": {},
   "outputs": [],
   "source": [
    "import os\n",
    "import sys\n",
    "import glob\n",
    "import pandas as pd\n",
    "import xgboost as xgb\n",
    "from sklearn.model_selection import train_test_split"
   ]
  },
  {
   "cell_type": "code",
   "execution_count": 2,
   "metadata": {},
   "outputs": [],
   "source": [
    "df_all = pd.read_csv('s3://stormpetrels/samples/labels/samples_all.csv')"
   ]
  },
  {
   "cell_type": "code",
   "execution_count": 3,
   "metadata": {},
   "outputs": [],
   "source": [
    "nice_features =  ['freq_Q25', 'freq_Q75', 'freq_mean', 'freq_median',\n",
    "       'freq_mode', 'freq_peak', 'offset', 'onset', 'pitch_IQR',\n",
    "       'pitch_Q25', 'pitch_Q75', 'pitch_max', 'pitch_mean',\n",
    "       'pitch_median', 'pitch_min', 'yaafe_LPC', 'yaafe_LSF.0', 'yaafe_LSF.1',\n",
    "       'yaafe_LSF.2', 'yaafe_LSF.3', 'yaafe_LSF.4', 'yaafe_LSF.5',\n",
    "       'yaafe_LSF.6', 'yaafe_LSF.7', 'yaafe_LSF.8', 'yaafe_LSF.9',\n",
    "       'yaafe_MFCC.0', 'yaafe_MFCC.1', 'yaafe_MFCC.10', 'yaafe_MFCC.11',\n",
    "       'yaafe_MFCC.12', 'yaafe_MFCC.2', 'yaafe_MFCC.3', 'yaafe_MFCC.4',\n",
    "       'yaafe_MFCC.5', 'yaafe_MFCC.6', 'yaafe_MFCC.7', 'yaafe_MFCC.8',\n",
    "       'yaafe_MFCC.9', 'yaafe_OBSI.0', 'yaafe_OBSI.1', 'yaafe_OBSI.2',\n",
    "       'yaafe_OBSI.3', 'yaafe_OBSI.4', 'yaafe_OBSI.5', 'yaafe_OBSI.6',\n",
    "       'yaafe_OBSI.7', 'yaafe_OBSI.8', 'yaafe_SpectralFlatness',\n",
    "       'yaafe_SpectralFlux', 'yaafe_SpectralRolloff',\n",
    "       'yaafe_SpectralVariation']"
   ]
  },
  {
   "cell_type": "code",
   "execution_count": 4,
   "metadata": {},
   "outputs": [],
   "source": [
    "df = df_all[nice_features]"
   ]
  },
  {
   "cell_type": "code",
   "execution_count": 5,
   "metadata": {},
   "outputs": [],
   "source": [
    "y = df_all['petrel']"
   ]
  },
  {
   "cell_type": "code",
   "execution_count": 6,
   "metadata": {},
   "outputs": [],
   "source": [
    "X_train, X_test, y_train, y_test = train_test_split(df, y, test_size=0.3, random_state=42)"
   ]
  },
  {
   "cell_type": "code",
   "execution_count": 10,
   "metadata": {},
   "outputs": [],
   "source": [
    "dtrain = xgb.DMatrix(X_train, label=y_train.values)\n",
    "dtest = xgb.DMatrix(X_test, label=y_test.values)"
   ]
  },
  {
   "cell_type": "code",
   "execution_count": 11,
   "metadata": {},
   "outputs": [],
   "source": [
    "param = {'max_depth': 3, 'eta': 0.1, 'silent': 1, 'objective': 'binary:logistic', 'subsample': 0.8, 'gamma': 0.1}\n",
    "watchlist = [(dtest, 'eval'), (dtrain, 'train')]"
   ]
  },
  {
   "cell_type": "code",
   "execution_count": 12,
   "metadata": {},
   "outputs": [
    {
     "name": "stdout",
     "output_type": "stream",
     "text": [
      "[0]\teval-error:0.027074\ttrain-error:0.017978\n",
      "[1]\teval-error:0.019214\ttrain-error:0.017228\n",
      "[2]\teval-error:0.024454\ttrain-error:0.017228\n",
      "[3]\teval-error:0.024454\ttrain-error:0.017978\n",
      "[4]\teval-error:0.022707\ttrain-error:0.017603\n",
      "[5]\teval-error:0.018341\ttrain-error:0.016479\n",
      "[6]\teval-error:0.018341\ttrain-error:0.017228\n",
      "[7]\teval-error:0.018341\ttrain-error:0.016854\n",
      "[8]\teval-error:0.018341\ttrain-error:0.017603\n",
      "[9]\teval-error:0.018341\ttrain-error:0.017603\n",
      "[10]\teval-error:0.018341\ttrain-error:0.017603\n",
      "[11]\teval-error:0.017467\ttrain-error:0.017228\n",
      "[12]\teval-error:0.017467\ttrain-error:0.017228\n",
      "[13]\teval-error:0.017467\ttrain-error:0.017603\n",
      "[14]\teval-error:0.017467\ttrain-error:0.017603\n",
      "[15]\teval-error:0.017467\ttrain-error:0.017603\n",
      "[16]\teval-error:0.017467\ttrain-error:0.017978\n",
      "[17]\teval-error:0.017467\ttrain-error:0.017603\n",
      "[18]\teval-error:0.017467\ttrain-error:0.017228\n",
      "[19]\teval-error:0.017467\ttrain-error:0.017603\n",
      "[20]\teval-error:0.017467\ttrain-error:0.017603\n",
      "[21]\teval-error:0.017467\ttrain-error:0.017603\n",
      "[22]\teval-error:0.017467\ttrain-error:0.017603\n",
      "[23]\teval-error:0.017467\ttrain-error:0.017603\n",
      "[24]\teval-error:0.017467\ttrain-error:0.017603\n",
      "[25]\teval-error:0.018341\ttrain-error:0.01573\n",
      "[26]\teval-error:0.018341\ttrain-error:0.016479\n",
      "[27]\teval-error:0.018341\ttrain-error:0.016479\n",
      "[28]\teval-error:0.018341\ttrain-error:0.01573\n",
      "[29]\teval-error:0.017467\ttrain-error:0.01573\n",
      "[30]\teval-error:0.017467\ttrain-error:0.01573\n",
      "[31]\teval-error:0.018341\ttrain-error:0.015356\n",
      "[32]\teval-error:0.018341\ttrain-error:0.01573\n",
      "[33]\teval-error:0.016594\ttrain-error:0.015356\n",
      "[34]\teval-error:0.017467\ttrain-error:0.015356\n",
      "[35]\teval-error:0.017467\ttrain-error:0.01573\n",
      "[36]\teval-error:0.017467\ttrain-error:0.015356\n",
      "[37]\teval-error:0.016594\ttrain-error:0.015356\n",
      "[38]\teval-error:0.017467\ttrain-error:0.015356\n",
      "[39]\teval-error:0.016594\ttrain-error:0.015356\n",
      "[40]\teval-error:0.016594\ttrain-error:0.015356\n",
      "[41]\teval-error:0.016594\ttrain-error:0.01573\n",
      "[42]\teval-error:0.016594\ttrain-error:0.013858\n",
      "[43]\teval-error:0.014847\ttrain-error:0.013858\n",
      "[44]\teval-error:0.016594\ttrain-error:0.013483\n",
      "[45]\teval-error:0.016594\ttrain-error:0.013483\n",
      "[46]\teval-error:0.016594\ttrain-error:0.013109\n",
      "[47]\teval-error:0.014847\ttrain-error:0.01236\n",
      "[48]\teval-error:0.014847\ttrain-error:0.011236\n",
      "[49]\teval-error:0.014847\ttrain-error:0.010487\n",
      "[50]\teval-error:0.014847\ttrain-error:0.010112\n",
      "[51]\teval-error:0.014847\ttrain-error:0.010112\n",
      "[52]\teval-error:0.014847\ttrain-error:0.009738\n",
      "[53]\teval-error:0.014847\ttrain-error:0.009738\n",
      "[54]\teval-error:0.014847\ttrain-error:0.009738\n",
      "[55]\teval-error:0.014847\ttrain-error:0.008614\n",
      "[56]\teval-error:0.014847\ttrain-error:0.008989\n",
      "[57]\teval-error:0.015721\ttrain-error:0.008614\n",
      "[58]\teval-error:0.015721\ttrain-error:0.008614\n",
      "[59]\teval-error:0.014847\ttrain-error:0.008614\n"
     ]
    }
   ],
   "source": [
    "bst = xgb.train(param, dtrain, 60, watchlist)"
   ]
  },
  {
   "cell_type": "code",
   "execution_count": 32,
   "metadata": {},
   "outputs": [],
   "source": [
    "h5_files = glob.glob('../data/h5/*.h5')\n",
    "dfs = []\n",
    "for path in h5_files:\n",
    "    df = pd.read_hdf(path)\n",
    "    name = os.path.splitext(os.path.basename(path))[0]\n",
    "    df['filename'] = name\n",
    "    dfs.append(df)"
   ]
  },
  {
   "cell_type": "code",
   "execution_count": 33,
   "metadata": {},
   "outputs": [],
   "source": [
    "dfs = pd.concat(dfs)"
   ]
  },
  {
   "cell_type": "code",
   "execution_count": 34,
   "metadata": {},
   "outputs": [],
   "source": [
    "dfs = dfs.rename(columns={'freq_peak.1': 'freq_peak'})\n",
    "df_pred = dfs[nice_features]"
   ]
  },
  {
   "cell_type": "code",
   "execution_count": 35,
   "metadata": {},
   "outputs": [],
   "source": [
    "p = xgb.DMatrix(df_pred)"
   ]
  },
  {
   "cell_type": "code",
   "execution_count": 36,
   "metadata": {},
   "outputs": [],
   "source": [
    "pred = bst.predict(p)"
   ]
  },
  {
   "cell_type": "code",
   "execution_count": 37,
   "metadata": {},
   "outputs": [],
   "source": [
    "dfs['petrel_prob'] = pred\n",
    "dfs['petrel'] = pred > 0.5"
   ]
  },
  {
   "cell_type": "code",
   "execution_count": 29,
   "metadata": {},
   "outputs": [
    {
     "data": {
      "text/plain": [
       "(483956,)"
      ]
     },
     "execution_count": 29,
     "metadata": {},
     "output_type": "execute_result"
    }
   ],
   "source": [
    "pred.shape"
   ]
  },
  {
   "cell_type": "code",
   "execution_count": 38,
   "metadata": {},
   "outputs": [
    {
     "data": {
      "text/plain": [
       "array(['onset', 'offset', 'freq_mean', 'freq_median', 'freq_mode',\n",
       "       'freq_Q25', 'freq_Q75', 'freq_IQR', 'freq_peak', 'freq_peak.2',\n",
       "       'freq_peak.3', 'pitch_median', 'pitch_mean', 'pitch_Q25',\n",
       "       'pitch_Q75', 'pitch_IQR', 'pitch_min', 'pitch_max',\n",
       "       'yaafe_Chroma.0', 'yaafe_Chroma.1', 'yaafe_Chroma.2',\n",
       "       'yaafe_Chroma.3', 'yaafe_Chroma.4', 'yaafe_Chroma.5',\n",
       "       'yaafe_Chroma.6', 'yaafe_Chroma.7', 'yaafe_Chroma.8',\n",
       "       'yaafe_Chroma.9', 'yaafe_Chroma.10', 'yaafe_Chroma.11',\n",
       "       'yaafe_LPC', 'yaafe_LSF.0', 'yaafe_LSF.1', 'yaafe_LSF.2',\n",
       "       'yaafe_LSF.3', 'yaafe_LSF.4', 'yaafe_LSF.5', 'yaafe_LSF.6',\n",
       "       'yaafe_LSF.7', 'yaafe_LSF.8', 'yaafe_LSF.9', 'yaafe_MFCC.0',\n",
       "       'yaafe_MFCC.1', 'yaafe_MFCC.2', 'yaafe_MFCC.3', 'yaafe_MFCC.4',\n",
       "       'yaafe_MFCC.5', 'yaafe_MFCC.6', 'yaafe_MFCC.7', 'yaafe_MFCC.8',\n",
       "       'yaafe_MFCC.9', 'yaafe_MFCC.10', 'yaafe_MFCC.11', 'yaafe_MFCC.12',\n",
       "       'yaafe_OBSI.0', 'yaafe_OBSI.1', 'yaafe_OBSI.2', 'yaafe_OBSI.3',\n",
       "       'yaafe_OBSI.4', 'yaafe_OBSI.5', 'yaafe_OBSI.6', 'yaafe_OBSI.7',\n",
       "       'yaafe_OBSI.8', 'yaafe_SpectralCrestFactorPerBand.0',\n",
       "       'yaafe_SpectralCrestFactorPerBand.1',\n",
       "       'yaafe_SpectralCrestFactorPerBand.2',\n",
       "       'yaafe_SpectralCrestFactorPerBand.3',\n",
       "       'yaafe_SpectralCrestFactorPerBand.4',\n",
       "       'yaafe_SpectralCrestFactorPerBand.5',\n",
       "       'yaafe_SpectralCrestFactorPerBand.6',\n",
       "       'yaafe_SpectralCrestFactorPerBand.7',\n",
       "       'yaafe_SpectralCrestFactorPerBand.8',\n",
       "       'yaafe_SpectralCrestFactorPerBand.9',\n",
       "       'yaafe_SpectralCrestFactorPerBand.10',\n",
       "       'yaafe_SpectralCrestFactorPerBand.11',\n",
       "       'yaafe_SpectralCrestFactorPerBand.12',\n",
       "       'yaafe_SpectralCrestFactorPerBand.13',\n",
       "       'yaafe_SpectralCrestFactorPerBand.14',\n",
       "       'yaafe_SpectralCrestFactorPerBand.15',\n",
       "       'yaafe_SpectralCrestFactorPerBand.16',\n",
       "       'yaafe_SpectralCrestFactorPerBand.17',\n",
       "       'yaafe_SpectralCrestFactorPerBand.18', 'yaafe_SpectralFlatness',\n",
       "       'yaafe_SpectralFlux', 'yaafe_SpectralRolloff',\n",
       "       'yaafe_SpectralVariation', 'filename', 'petrel_prob', 'petrel'],\n",
       "      dtype=object)"
      ]
     },
     "execution_count": 38,
     "metadata": {},
     "output_type": "execute_result"
    }
   ],
   "source": [
    "dfs.columns.values"
   ]
  },
  {
   "cell_type": "code",
   "execution_count": null,
   "metadata": {},
   "outputs": [],
   "source": []
  }
 ],
 "metadata": {
  "kernelspec": {
   "display_name": "Python 3",
   "language": "python",
   "name": "python3"
  },
  "language_info": {
   "codemirror_mode": {
    "name": "ipython",
    "version": 3
   },
   "file_extension": ".py",
   "mimetype": "text/x-python",
   "name": "python",
   "nbconvert_exporter": "python",
   "pygments_lexer": "ipython3",
   "version": "3.6.8"
  }
 },
 "nbformat": 4,
 "nbformat_minor": 2
}
