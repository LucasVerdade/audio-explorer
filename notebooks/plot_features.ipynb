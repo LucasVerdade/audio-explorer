{
 "cells": [
  {
   "cell_type": "code",
   "execution_count": 9,
   "metadata": {},
   "outputs": [
    {
     "data": {
      "text/html": [
       "        <script type=\"text/javascript\">\n",
       "        window.PlotlyConfig = {MathJaxConfig: 'local'};\n",
       "        if (window.MathJax) {MathJax.Hub.Config({SVG: {font: \"STIX-Web\"}});}\n",
       "        if (typeof require !== 'undefined') {\n",
       "        require.undef(\"plotly\");\n",
       "        requirejs.config({\n",
       "            paths: {\n",
       "                'plotly': ['https://cdn.plot.ly/plotly-latest.min']\n",
       "            }\n",
       "        });\n",
       "        require(['plotly'], function(Plotly) {\n",
       "            window._Plotly = Plotly;\n",
       "        });\n",
       "        }\n",
       "        </script>\n",
       "        "
      ]
     },
     "metadata": {},
     "output_type": "display_data"
    }
   ],
   "source": [
    "import os\n",
    "import sys\n",
    "import pandas as pd\n",
    "\n",
    "module_path = os.path.abspath(os.path.join('..'))\n",
    "if module_path not in sys.path:\n",
    "    sys.path.append(module_path)\n",
    "    \n",
    "import plotly\n",
    "import plotly.plotly as py\n",
    "import plotly.graph_objs as go\n",
    "\n",
    "import audioexplorer.audio_io as aio\n",
    "import audioexplorer.features as features\n",
    "\n",
    "plotly.offline.init_notebook_mode(connected=True)"
   ]
  },
  {
   "cell_type": "code",
   "execution_count": 10,
   "metadata": {},
   "outputs": [],
   "source": [
    "df = pd.read_csv('s3://stormpetrels/samples/labels/samples_all.csv')\n",
    "df_petrel = df[df['petrel'] == 1]\n",
    "df_noise = df[df['petrel'] == 0]"
   ]
  },
  {
   "cell_type": "code",
   "execution_count": 11,
   "metadata": {},
   "outputs": [
    {
     "data": {
      "text/plain": [
       "{'freq': 'Frequency statistics',\n",
       " 'pitch': 'Pitch statistics',\n",
       " 'Chroma': 'Chroma',\n",
       " 'LPC': 'LPC',\n",
       " 'LSF': 'LSF',\n",
       " 'MFCC': 'MFCC',\n",
       " 'OBSI': 'OBSI',\n",
       " 'SpectralCrestFactorPerBand': 'Crest factors',\n",
       " 'SpectralFlatness': 'Flatness',\n",
       " 'SpectralFlux': 'Flux',\n",
       " 'SpectralRolloff': 'Rolloff',\n",
       " 'SpectralVariation': 'Variation'}"
      ]
     },
     "execution_count": 11,
     "metadata": {},
     "output_type": "execute_result"
    }
   ],
   "source": [
    "features.FEATURES"
   ]
  },
  {
   "cell_type": "code",
   "execution_count": 18,
   "metadata": {},
   "outputs": [],
   "source": [
    "features.FEATURES.update({\n",
    "    'LPC': 'Linear Predictor Coefficients',\n",
    "    'LSF': 'Line Spectral Frequency',\n",
    "    'MFCC': 'Mel-frequencies cepstrum coefficients',\n",
    "    'OBSI': 'Octave band signal intensity'\n",
    "})"
   ]
  },
  {
   "cell_type": "code",
   "execution_count": 19,
   "metadata": {},
   "outputs": [
    {
     "data": {
      "text/plain": [
       "1    2239\n",
       "0    1576\n",
       "Name: petrel, dtype: int64"
      ]
     },
     "execution_count": 19,
     "metadata": {},
     "output_type": "execute_result"
    }
   ],
   "source": [
    "df['petrel'].value_counts()"
   ]
  },
  {
   "cell_type": "code",
   "execution_count": 13,
   "metadata": {},
   "outputs": [],
   "source": [
    "def plot_features(df, selection):\n",
    "    df_petrel = df[df['petrel'] == 1]\n",
    "    df_noise = df[df['petrel'] == 0]\n",
    "    title = features.FEATURES[selection]\n",
    "    sel_columns = [column_name for column_name in df.columns.values if selection in column_name]\n",
    "    fig = plotly.tools.make_subplots(rows=len(sel_columns), subplot_titles=tuple(sel_columns))\n",
    "\n",
    "    marker_petrels = {'color': '#FF4136', 'size': 2}\n",
    "    marker_noise = {'color': '#0000FF', 'size': 2}\n",
    "\n",
    "    for idx, name in enumerate(sel_columns):\n",
    "        trace_petrel = go.Box(x=df_petrel[name], name='petrels', marker=marker_petrels)\n",
    "        trace_noise = go.Box(x=df_noise[name], name='noise', marker=marker_noise)\n",
    "        fig.append_trace(trace_petrel, idx+1, 1)\n",
    "        fig.append_trace(trace_noise, idx+1, 1)\n",
    "\n",
    "    fig['layout'].update(height=len(sel_columns) * 400, width=1200, title=title, showlegend=False)\n",
    "    return fig"
   ]
  },
  {
   "cell_type": "code",
   "execution_count": 20,
   "metadata": {},
   "outputs": [
    {
     "name": "stdout",
     "output_type": "stream",
     "text": [
      "This is the format of your plot grid:\n",
      "[ (1,1) x1,y1 ]\n",
      "[ (2,1) x2,y2 ]\n",
      "[ (3,1) x3,y3 ]\n",
      "[ (4,1) x4,y4 ]\n",
      "[ (5,1) x5,y5 ]\n",
      "[ (6,1) x6,y6 ]\n",
      "[ (7,1) x7,y7 ]\n",
      "\n"
     ]
    },
    {
     "name": "stderr",
     "output_type": "stream",
     "text": [
      "/home/ec4678/Libraries/anaconda3/envs/audioexplorer/lib/python3.6/site-packages/IPython/core/display.py:689: UserWarning:\n",
      "\n",
      "Consider using IPython.display.IFrame instead\n",
      "\n"
     ]
    },
    {
     "data": {
      "text/html": [
       "<iframe id=\"igraph\" scrolling=\"no\" style=\"border:none;\" seamless=\"seamless\" src=\"https://plot.ly/~tracewsl/283.embed?share_key=L2VlZjTA1b8iVrohcSKEXX\" height=\"2800px\" width=\"1200px\"></iframe>"
      ],
      "text/plain": [
       "<chart_studio.tools.PlotlyDisplay object>"
      ]
     },
     "execution_count": 20,
     "metadata": {},
     "output_type": "execute_result"
    }
   ],
   "source": [
    "selection = 'freq'\n",
    "fig = plot_features(df, selection)\n",
    "py.iplot(fig, filename=selection)"
   ]
  },
  {
   "cell_type": "code",
   "execution_count": 21,
   "metadata": {},
   "outputs": [
    {
     "name": "stdout",
     "output_type": "stream",
     "text": [
      "This is the format of your plot grid:\n",
      "[ (1,1) x1,y1 ]\n",
      "[ (2,1) x2,y2 ]\n",
      "[ (3,1) x3,y3 ]\n",
      "[ (4,1) x4,y4 ]\n",
      "[ (5,1) x5,y5 ]\n",
      "[ (6,1) x6,y6 ]\n",
      "[ (7,1) x7,y7 ]\n",
      "\n"
     ]
    },
    {
     "data": {
      "text/html": [
       "<iframe id=\"igraph\" scrolling=\"no\" style=\"border:none;\" seamless=\"seamless\" src=\"https://plot.ly/~tracewsl/287.embed?share_key=e9OwUCoqfzFsYk52SdsUmT\" height=\"2800px\" width=\"1200px\"></iframe>"
      ],
      "text/plain": [
       "<chart_studio.tools.PlotlyDisplay object>"
      ]
     },
     "execution_count": 21,
     "metadata": {},
     "output_type": "execute_result"
    }
   ],
   "source": [
    "selection = 'pitch'\n",
    "fig = plot_features(df, selection)\n",
    "py.iplot(fig, filename=selection)"
   ]
  },
  {
   "cell_type": "code",
   "execution_count": 22,
   "metadata": {},
   "outputs": [
    {
     "name": "stdout",
     "output_type": "stream",
     "text": [
      "This is the format of your plot grid:\n",
      "[ (1,1) x1,y1 ]   \n",
      "[ (2,1) x2,y2 ]   \n",
      "[ (3,1) x3,y3 ]   \n",
      "[ (4,1) x4,y4 ]   \n",
      "[ (5,1) x5,y5 ]   \n",
      "[ (6,1) x6,y6 ]   \n",
      "[ (7,1) x7,y7 ]   \n",
      "[ (8,1) x8,y8 ]   \n",
      "[ (9,1) x9,y9 ]   \n",
      "[ (10,1) x10,y10 ]\n",
      "[ (11,1) x11,y11 ]\n",
      "[ (12,1) x12,y12 ]\n",
      "\n"
     ]
    },
    {
     "data": {
      "text/html": [
       "<iframe id=\"igraph\" scrolling=\"no\" style=\"border:none;\" seamless=\"seamless\" src=\"https://plot.ly/~tracewsl/289.embed?share_key=0VFdiGqG1StwkVAE3z4FZs\" height=\"4800px\" width=\"1200px\"></iframe>"
      ],
      "text/plain": [
       "<chart_studio.tools.PlotlyDisplay object>"
      ]
     },
     "execution_count": 22,
     "metadata": {},
     "output_type": "execute_result"
    }
   ],
   "source": [
    "selection = 'Chroma'\n",
    "fig = plot_features(df, selection)\n",
    "py.iplot(fig, filename=selection)"
   ]
  },
  {
   "cell_type": "code",
   "execution_count": 23,
   "metadata": {},
   "outputs": [
    {
     "name": "stdout",
     "output_type": "stream",
     "text": [
      "This is the format of your plot grid:\n",
      "[ (1,1) x1,y1 ]\n",
      "\n"
     ]
    },
    {
     "data": {
      "text/html": [
       "<iframe id=\"igraph\" scrolling=\"no\" style=\"border:none;\" seamless=\"seamless\" src=\"https://plot.ly/~tracewsl/291.embed?share_key=ViJwEgsahRoxYa5iB4oQiK\" height=\"400px\" width=\"1200px\"></iframe>"
      ],
      "text/plain": [
       "<chart_studio.tools.PlotlyDisplay object>"
      ]
     },
     "execution_count": 23,
     "metadata": {},
     "output_type": "execute_result"
    }
   ],
   "source": [
    "selection = 'LPC'\n",
    "fig = plot_features(df, selection)\n",
    "py.iplot(fig, filename=selection)"
   ]
  },
  {
   "cell_type": "code",
   "execution_count": 24,
   "metadata": {},
   "outputs": [
    {
     "name": "stdout",
     "output_type": "stream",
     "text": [
      "This is the format of your plot grid:\n",
      "[ (1,1) x1,y1 ]   \n",
      "[ (2,1) x2,y2 ]   \n",
      "[ (3,1) x3,y3 ]   \n",
      "[ (4,1) x4,y4 ]   \n",
      "[ (5,1) x5,y5 ]   \n",
      "[ (6,1) x6,y6 ]   \n",
      "[ (7,1) x7,y7 ]   \n",
      "[ (8,1) x8,y8 ]   \n",
      "[ (9,1) x9,y9 ]   \n",
      "[ (10,1) x10,y10 ]\n",
      "\n"
     ]
    },
    {
     "data": {
      "text/html": [
       "<iframe id=\"igraph\" scrolling=\"no\" style=\"border:none;\" seamless=\"seamless\" src=\"https://plot.ly/~tracewsl/293.embed?share_key=q3ADhge9jkLqGkYZctB3cp\" height=\"4000px\" width=\"1200px\"></iframe>"
      ],
      "text/plain": [
       "<chart_studio.tools.PlotlyDisplay object>"
      ]
     },
     "execution_count": 24,
     "metadata": {},
     "output_type": "execute_result"
    }
   ],
   "source": [
    "selection = 'LSF'\n",
    "fig = plot_features(df, selection)\n",
    "py.iplot(fig, filename=selection)"
   ]
  },
  {
   "cell_type": "code",
   "execution_count": 25,
   "metadata": {},
   "outputs": [
    {
     "name": "stdout",
     "output_type": "stream",
     "text": [
      "This is the format of your plot grid:\n",
      "[ (1,1) x1,y1 ]   \n",
      "[ (2,1) x2,y2 ]   \n",
      "[ (3,1) x3,y3 ]   \n",
      "[ (4,1) x4,y4 ]   \n",
      "[ (5,1) x5,y5 ]   \n",
      "[ (6,1) x6,y6 ]   \n",
      "[ (7,1) x7,y7 ]   \n",
      "[ (8,1) x8,y8 ]   \n",
      "[ (9,1) x9,y9 ]   \n",
      "[ (10,1) x10,y10 ]\n",
      "[ (11,1) x11,y11 ]\n",
      "[ (12,1) x12,y12 ]\n",
      "[ (13,1) x13,y13 ]\n",
      "\n"
     ]
    },
    {
     "data": {
      "text/html": [
       "<iframe id=\"igraph\" scrolling=\"no\" style=\"border:none;\" seamless=\"seamless\" src=\"https://plot.ly/~tracewsl/295.embed?share_key=dqVmp5SsXIJjn5Nn232a8v\" height=\"5200px\" width=\"1200px\"></iframe>"
      ],
      "text/plain": [
       "<chart_studio.tools.PlotlyDisplay object>"
      ]
     },
     "execution_count": 25,
     "metadata": {},
     "output_type": "execute_result"
    }
   ],
   "source": [
    "selection = 'MFCC'\n",
    "fig = plot_features(df, selection)\n",
    "py.iplot(fig, filename=selection)"
   ]
  },
  {
   "cell_type": "code",
   "execution_count": 26,
   "metadata": {},
   "outputs": [
    {
     "name": "stdout",
     "output_type": "stream",
     "text": [
      "This is the format of your plot grid:\n",
      "[ (1,1) x1,y1 ]\n",
      "[ (2,1) x2,y2 ]\n",
      "[ (3,1) x3,y3 ]\n",
      "[ (4,1) x4,y4 ]\n",
      "[ (5,1) x5,y5 ]\n",
      "[ (6,1) x6,y6 ]\n",
      "[ (7,1) x7,y7 ]\n",
      "[ (8,1) x8,y8 ]\n",
      "[ (9,1) x9,y9 ]\n",
      "\n"
     ]
    },
    {
     "data": {
      "text/html": [
       "<iframe id=\"igraph\" scrolling=\"no\" style=\"border:none;\" seamless=\"seamless\" src=\"https://plot.ly/~tracewsl/297.embed?share_key=YJtDbLkmy8tk2tDnPtBj1K\" height=\"3600px\" width=\"1200px\"></iframe>"
      ],
      "text/plain": [
       "<chart_studio.tools.PlotlyDisplay object>"
      ]
     },
     "execution_count": 26,
     "metadata": {},
     "output_type": "execute_result"
    }
   ],
   "source": [
    "selection = 'OBSI'\n",
    "fig = plot_features(df, selection)\n",
    "py.iplot(fig, filename=selection)"
   ]
  },
  {
   "cell_type": "code",
   "execution_count": 27,
   "metadata": {},
   "outputs": [
    {
     "name": "stdout",
     "output_type": "stream",
     "text": [
      "This is the format of your plot grid:\n",
      "[ (1,1) x1,y1 ]   \n",
      "[ (2,1) x2,y2 ]   \n",
      "[ (3,1) x3,y3 ]   \n",
      "[ (4,1) x4,y4 ]   \n",
      "[ (5,1) x5,y5 ]   \n",
      "[ (6,1) x6,y6 ]   \n",
      "[ (7,1) x7,y7 ]   \n",
      "[ (8,1) x8,y8 ]   \n",
      "[ (9,1) x9,y9 ]   \n",
      "[ (10,1) x10,y10 ]\n",
      "[ (11,1) x11,y11 ]\n",
      "[ (12,1) x12,y12 ]\n",
      "[ (13,1) x13,y13 ]\n",
      "[ (14,1) x14,y14 ]\n",
      "[ (15,1) x15,y15 ]\n",
      "[ (16,1) x16,y16 ]\n",
      "[ (17,1) x17,y17 ]\n",
      "[ (18,1) x18,y18 ]\n",
      "[ (19,1) x19,y19 ]\n",
      "\n"
     ]
    },
    {
     "data": {
      "text/html": [
       "<iframe id=\"igraph\" scrolling=\"no\" style=\"border:none;\" seamless=\"seamless\" src=\"https://plot.ly/~tracewsl/299.embed?share_key=HArAnOlbKFejWAiYbvrTBz\" height=\"7600px\" width=\"1200px\"></iframe>"
      ],
      "text/plain": [
       "<chart_studio.tools.PlotlyDisplay object>"
      ]
     },
     "execution_count": 27,
     "metadata": {},
     "output_type": "execute_result"
    }
   ],
   "source": [
    "selection = 'SpectralCrestFactorPerBand'\n",
    "fig = plot_features(df, selection)\n",
    "py.iplot(fig, filename=selection)"
   ]
  },
  {
   "cell_type": "code",
   "execution_count": 28,
   "metadata": {},
   "outputs": [
    {
     "name": "stdout",
     "output_type": "stream",
     "text": [
      "This is the format of your plot grid:\n",
      "[ (1,1) x1,y1 ]\n",
      "\n"
     ]
    },
    {
     "data": {
      "text/html": [
       "<iframe id=\"igraph\" scrolling=\"no\" style=\"border:none;\" seamless=\"seamless\" src=\"https://plot.ly/~tracewsl/301.embed?share_key=QkE6EZzraIb6gjEfkssGGQ\" height=\"400px\" width=\"1200px\"></iframe>"
      ],
      "text/plain": [
       "<chart_studio.tools.PlotlyDisplay object>"
      ]
     },
     "execution_count": 28,
     "metadata": {},
     "output_type": "execute_result"
    }
   ],
   "source": [
    "selection = 'SpectralFlatness'\n",
    "fig = plot_features(df, selection)\n",
    "py.iplot(fig, filename=selection)"
   ]
  },
  {
   "cell_type": "code",
   "execution_count": 29,
   "metadata": {},
   "outputs": [
    {
     "name": "stdout",
     "output_type": "stream",
     "text": [
      "This is the format of your plot grid:\n",
      "[ (1,1) x1,y1 ]\n",
      "\n"
     ]
    },
    {
     "data": {
      "text/html": [
       "<iframe id=\"igraph\" scrolling=\"no\" style=\"border:none;\" seamless=\"seamless\" src=\"https://plot.ly/~tracewsl/303.embed?share_key=uVmYqOKQhMpl2GjiJEuy6e\" height=\"400px\" width=\"1200px\"></iframe>"
      ],
      "text/plain": [
       "<chart_studio.tools.PlotlyDisplay object>"
      ]
     },
     "execution_count": 29,
     "metadata": {},
     "output_type": "execute_result"
    }
   ],
   "source": [
    "selection = 'SpectralFlux'\n",
    "fig = plot_features(df, selection)\n",
    "py.iplot(fig, filename=selection)"
   ]
  },
  {
   "cell_type": "code",
   "execution_count": 30,
   "metadata": {},
   "outputs": [
    {
     "name": "stdout",
     "output_type": "stream",
     "text": [
      "This is the format of your plot grid:\n",
      "[ (1,1) x1,y1 ]\n",
      "\n"
     ]
    },
    {
     "data": {
      "text/html": [
       "<iframe id=\"igraph\" scrolling=\"no\" style=\"border:none;\" seamless=\"seamless\" src=\"https://plot.ly/~tracewsl/305.embed?share_key=rcsu59uZathoNi2e9VuqoO\" height=\"400px\" width=\"1200px\"></iframe>"
      ],
      "text/plain": [
       "<chart_studio.tools.PlotlyDisplay object>"
      ]
     },
     "execution_count": 30,
     "metadata": {},
     "output_type": "execute_result"
    }
   ],
   "source": [
    "selection = 'SpectralRolloff'\n",
    "fig = plot_features(df, selection)\n",
    "py.iplot(fig, filename=selection)"
   ]
  },
  {
   "cell_type": "code",
   "execution_count": 31,
   "metadata": {},
   "outputs": [
    {
     "name": "stdout",
     "output_type": "stream",
     "text": [
      "This is the format of your plot grid:\n",
      "[ (1,1) x1,y1 ]\n",
      "\n"
     ]
    },
    {
     "data": {
      "text/html": [
       "<iframe id=\"igraph\" scrolling=\"no\" style=\"border:none;\" seamless=\"seamless\" src=\"https://plot.ly/~tracewsl/307.embed?share_key=T1e4uLpNSQzhKlMwCOxm4k\" height=\"400px\" width=\"1200px\"></iframe>"
      ],
      "text/plain": [
       "<chart_studio.tools.PlotlyDisplay object>"
      ]
     },
     "execution_count": 31,
     "metadata": {},
     "output_type": "execute_result"
    }
   ],
   "source": [
    "selection = 'SpectralVariation'\n",
    "fig = plot_features(df, selection)\n",
    "py.iplot(fig, filename=selection)"
   ]
  },
  {
   "cell_type": "code",
   "execution_count": 34,
   "metadata": {},
   "outputs": [],
   "source": [
    "nice_features =  ['freq_Q25', 'freq_Q75', 'freq_mean', 'freq_median',\n",
    "       'freq_mode', 'freq_peak', 'offset', 'onset', 'pitch_IQR',\n",
    "       'pitch_Q25', 'pitch_Q75', 'pitch_max', 'pitch_mean',\n",
    "       'pitch_median', 'pitch_min', 'yaafe_LPC', 'yaafe_LSF.0', 'yaafe_LSF.1',\n",
    "       'yaafe_LSF.2', 'yaafe_LSF.3', 'yaafe_LSF.4', 'yaafe_LSF.5',\n",
    "       'yaafe_LSF.6', 'yaafe_LSF.7', 'yaafe_LSF.8', 'yaafe_LSF.9',\n",
    "       'yaafe_MFCC.0', 'yaafe_MFCC.1', 'yaafe_MFCC.10', 'yaafe_MFCC.11',\n",
    "       'yaafe_MFCC.12', 'yaafe_MFCC.2', 'yaafe_MFCC.3', 'yaafe_MFCC.4',\n",
    "       'yaafe_MFCC.5', 'yaafe_MFCC.6', 'yaafe_MFCC.7', 'yaafe_MFCC.8',\n",
    "       'yaafe_MFCC.9', 'yaafe_OBSI.0', 'yaafe_OBSI.1', 'yaafe_OBSI.2',\n",
    "       'yaafe_OBSI.3', 'yaafe_OBSI.4', 'yaafe_OBSI.5', 'yaafe_OBSI.6',\n",
    "       'yaafe_OBSI.7', 'yaafe_OBSI.8', 'yaafe_SpectralFlatness',\n",
    "       'yaafe_SpectralFlux', 'yaafe_SpectralRolloff',\n",
    "       'yaafe_SpectralVariation', 'petrel', 'filename']"
   ]
  },
  {
   "cell_type": "code",
   "execution_count": 35,
   "metadata": {},
   "outputs": [
    {
     "data": {
      "text/plain": [
       "['freq_Q25',\n",
       " 'freq_Q75',\n",
       " 'freq_mean',\n",
       " 'freq_median',\n",
       " 'freq_mode',\n",
       " 'freq_peak',\n",
       " 'offset',\n",
       " 'onset',\n",
       " 'pitch_IQR',\n",
       " 'pitch_Q25',\n",
       " 'pitch_Q75',\n",
       " 'pitch_max',\n",
       " 'pitch_mean',\n",
       " 'pitch_median',\n",
       " 'pitch_min',\n",
       " 'yaafe_LPC',\n",
       " 'yaafe_LSF.0',\n",
       " 'yaafe_LSF.1',\n",
       " 'yaafe_LSF.2',\n",
       " 'yaafe_LSF.3',\n",
       " 'yaafe_LSF.4',\n",
       " 'yaafe_LSF.5',\n",
       " 'yaafe_LSF.6',\n",
       " 'yaafe_LSF.7',\n",
       " 'yaafe_LSF.8',\n",
       " 'yaafe_LSF.9',\n",
       " 'yaafe_MFCC.0',\n",
       " 'yaafe_MFCC.1',\n",
       " 'yaafe_MFCC.10',\n",
       " 'yaafe_MFCC.11',\n",
       " 'yaafe_MFCC.12',\n",
       " 'yaafe_MFCC.2',\n",
       " 'yaafe_MFCC.3',\n",
       " 'yaafe_MFCC.4',\n",
       " 'yaafe_MFCC.5',\n",
       " 'yaafe_MFCC.6',\n",
       " 'yaafe_MFCC.7',\n",
       " 'yaafe_MFCC.8',\n",
       " 'yaafe_MFCC.9',\n",
       " 'yaafe_OBSI.0',\n",
       " 'yaafe_OBSI.1',\n",
       " 'yaafe_OBSI.2',\n",
       " 'yaafe_OBSI.3',\n",
       " 'yaafe_OBSI.4',\n",
       " 'yaafe_OBSI.5',\n",
       " 'yaafe_OBSI.6',\n",
       " 'yaafe_OBSI.7',\n",
       " 'yaafe_OBSI.8',\n",
       " 'yaafe_SpectralFlatness',\n",
       " 'yaafe_SpectralFlux',\n",
       " 'yaafe_SpectralRolloff',\n",
       " 'yaafe_SpectralVariation',\n",
       " 'petrel',\n",
       " 'filename']"
      ]
     },
     "execution_count": 35,
     "metadata": {},
     "output_type": "execute_result"
    }
   ],
   "source": [
    "nice_features"
   ]
  },
  {
   "cell_type": "code",
   "execution_count": null,
   "metadata": {},
   "outputs": [],
   "source": []
  }
 ],
 "metadata": {
  "kernelspec": {
   "display_name": "Python 3",
   "language": "python",
   "name": "python3"
  },
  "language_info": {
   "codemirror_mode": {
    "name": "ipython",
    "version": 3
   },
   "file_extension": ".py",
   "mimetype": "text/x-python",
   "name": "python",
   "nbconvert_exporter": "python",
   "pygments_lexer": "ipython3",
   "version": "3.6.8"
  }
 },
 "nbformat": 4,
 "nbformat_minor": 2
}
