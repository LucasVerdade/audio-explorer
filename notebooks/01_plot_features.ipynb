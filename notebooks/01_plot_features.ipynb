{
 "cells": [
  {
   "cell_type": "markdown",
   "metadata": {},
   "source": [
    "# Feature analysis for storm petrel recordings from St Helena\n",
    "\n",
    "In this notebook we're going to look at distribution of numerical features we have calculated for selected recordings from St Helena. The purpose is to to determine which seem to best describe storm petrels against *noise*, i.e. any non-petrel sound. "
   ]
  },
  {
   "cell_type": "code",
   "execution_count": 1,
   "metadata": {},
   "outputs": [],
   "source": [
    "import os\n",
    "import sys\n",
    "import pandas as pd\n",
    "\n",
    "module_path = os.path.abspath(os.path.join('..'))\n",
    "if module_path not in sys.path:\n",
    "    sys.path.append(module_path)\n",
    "    \n",
    "import plotly\n",
    "import plotly.plotly as py\n",
    "import plotly.graph_objs as go\n",
    "\n",
    "import audioexplorer.audio_io as aio\n",
    "import audioexplorer.features as features"
   ]
  },
  {
   "cell_type": "markdown",
   "metadata": {},
   "source": [
    "Load the data and separate petrels and noise"
   ]
  },
  {
   "cell_type": "code",
   "execution_count": 2,
   "metadata": {},
   "outputs": [],
   "source": [
    "df = pd.read_csv('s3://stormpetrels/samples/labels/samples_all.csv')\n",
    "df_petrel = df[df['petrel'] == 1]\n",
    "df_noise = df[df['petrel'] == 0]"
   ]
  },
  {
   "cell_type": "code",
   "execution_count": 3,
   "metadata": {},
   "outputs": [
    {
     "data": {
      "text/plain": [
       "{'freq': 'Frequency statistics',\n",
       " 'pitch': 'Pitch statistics',\n",
       " 'Chroma': 'Chroma',\n",
       " 'LPC': 'LPC',\n",
       " 'LSF': 'LSF',\n",
       " 'MFCC': 'MFCC',\n",
       " 'OBSI': 'OBSI',\n",
       " 'SpectralCrestFactorPerBand': 'Crest factors',\n",
       " 'SpectralFlatness': 'Flatness',\n",
       " 'SpectralFlux': 'Flux',\n",
       " 'SpectralRolloff': 'Rolloff',\n",
       " 'SpectralVariation': 'Variation'}"
      ]
     },
     "execution_count": 3,
     "metadata": {},
     "output_type": "execute_result"
    }
   ],
   "source": [
    "features.FEATURES"
   ]
  },
  {
   "cell_type": "markdown",
   "metadata": {},
   "source": [
    "Let's use better names so that it's claer what we're computing."
   ]
  },
  {
   "cell_type": "code",
   "execution_count": 4,
   "metadata": {},
   "outputs": [],
   "source": [
    "features.FEATURES.update({\n",
    "    'LPC': 'Linear Predictor Coefficients',\n",
    "    'LSF': 'Line Spectral Frequency',\n",
    "    'MFCC': 'Mel-frequencies cepstrum coefficients',\n",
    "    'OBSI': 'Octave band signal intensity'\n",
    "})"
   ]
  },
  {
   "cell_type": "markdown",
   "metadata": {},
   "source": [
    "Let `0` denote *noise* and `1` *petrels*."
   ]
  },
  {
   "cell_type": "code",
   "execution_count": 8,
   "metadata": {},
   "outputs": [
    {
     "data": {
      "text/plain": [
       "1    2239\n",
       "0    1576\n",
       "Name: petrel, dtype: int64"
      ]
     },
     "execution_count": 8,
     "metadata": {},
     "output_type": "execute_result"
    }
   ],
   "source": [
    "df['petrel'].value_counts()"
   ]
  },
  {
   "cell_type": "markdown",
   "metadata": {},
   "source": [
    "We're going to use `plotly` library to produce boxplots. Follow [getting started guide](https://plot.ly/python/getting-started/) to install and set up the library (free account is needed)."
   ]
  },
  {
   "cell_type": "code",
   "execution_count": 12,
   "metadata": {},
   "outputs": [],
   "source": [
    "def plot_features(df, selection):\n",
    "    df_petrel = df[df['petrel'] == 1]\n",
    "    df_noise = df[df['petrel'] == 0]\n",
    "    title = features.FEATURES[selection]\n",
    "    sel_columns = [column_name for column_name in df.columns.values if selection in column_name]\n",
    "    fig = plotly.tools.make_subplots(rows=len(sel_columns), subplot_titles=tuple(sel_columns))\n",
    "\n",
    "    marker_petrels = {'color': '#FF4136', 'size': 2}\n",
    "    marker_noise = {'color': '#0000FF', 'size': 2}\n",
    "\n",
    "    for idx, name in enumerate(sel_columns):\n",
    "        trace_petrel = go.Box(x=df_petrel[name], name='petrels', marker=marker_petrels)\n",
    "        trace_noise = go.Box(x=df_noise[name], name='noise', marker=marker_noise)\n",
    "        fig.append_trace(trace_petrel, idx+1, 1)\n",
    "        fig.append_trace(trace_noise, idx+1, 1)\n",
    "\n",
    "    fig['layout'].update(height=len(sel_columns) * 400, width=1200, title='Storm Petrel: ' + title, showlegend=False)\n",
    "    return fig"
   ]
  },
  {
   "cell_type": "markdown",
   "metadata": {},
   "source": [
    "Let's plot them all and put in public space"
   ]
  },
  {
   "cell_type": "code",
   "execution_count": 24,
   "metadata": {},
   "outputs": [
    {
     "name": "stdout",
     "output_type": "stream",
     "text": [
      "This is the format of your plot grid:\n",
      "[ (1,1) x1,y1 ]\n",
      "[ (2,1) x2,y2 ]\n",
      "[ (3,1) x3,y3 ]\n",
      "[ (4,1) x4,y4 ]\n",
      "[ (5,1) x5,y5 ]\n",
      "[ (6,1) x6,y6 ]\n",
      "[ (7,1) x7,y7 ]\n",
      "\n"
     ]
    },
    {
     "data": {
      "text/plain": [
       "'https://plot.ly/~tracewsl/311?share_key=604K67TKBBwoLRPqZMrelQ'"
      ]
     },
     "execution_count": 24,
     "metadata": {},
     "output_type": "execute_result"
    }
   ],
   "source": [
    "selection = 'freq'\n",
    "fig = plot_features(df, selection)\n",
    "py.plot(fig, filename='Storm Petrels ' + selection)"
   ]
  },
  {
   "cell_type": "code",
   "execution_count": 15,
   "metadata": {},
   "outputs": [
    {
     "name": "stdout",
     "output_type": "stream",
     "text": [
      "This is the format of your plot grid:\n",
      "[ (1,1) x1,y1 ]\n",
      "[ (2,1) x2,y2 ]\n",
      "[ (3,1) x3,y3 ]\n",
      "[ (4,1) x4,y4 ]\n",
      "[ (5,1) x5,y5 ]\n",
      "[ (6,1) x6,y6 ]\n",
      "[ (7,1) x7,y7 ]\n",
      "\n"
     ]
    },
    {
     "data": {
      "text/plain": [
       "'https://plot.ly/~tracewsl/313?share_key=WoXXOcXzpNk1dGHRPJiya5'"
      ]
     },
     "execution_count": 15,
     "metadata": {},
     "output_type": "execute_result"
    }
   ],
   "source": [
    "selection = 'pitch'\n",
    "fig = plot_features(df, selection)\n",
    "py.plot(fig, filename=selection)"
   ]
  },
  {
   "cell_type": "code",
   "execution_count": 16,
   "metadata": {},
   "outputs": [
    {
     "name": "stdout",
     "output_type": "stream",
     "text": [
      "This is the format of your plot grid:\n",
      "[ (1,1) x1,y1 ]   \n",
      "[ (2,1) x2,y2 ]   \n",
      "[ (3,1) x3,y3 ]   \n",
      "[ (4,1) x4,y4 ]   \n",
      "[ (5,1) x5,y5 ]   \n",
      "[ (6,1) x6,y6 ]   \n",
      "[ (7,1) x7,y7 ]   \n",
      "[ (8,1) x8,y8 ]   \n",
      "[ (9,1) x9,y9 ]   \n",
      "[ (10,1) x10,y10 ]\n",
      "[ (11,1) x11,y11 ]\n",
      "[ (12,1) x12,y12 ]\n",
      "\n"
     ]
    },
    {
     "data": {
      "text/plain": [
       "'https://plot.ly/~tracewsl/315?share_key=BIa9dCSsJ74rBJuQFUJN3H'"
      ]
     },
     "execution_count": 16,
     "metadata": {},
     "output_type": "execute_result"
    }
   ],
   "source": [
    "selection = 'Chroma'\n",
    "fig = plot_features(df, selection)\n",
    "py.plot(fig, filename=selection)"
   ]
  },
  {
   "cell_type": "code",
   "execution_count": 33,
   "metadata": {},
   "outputs": [
    {
     "name": "stdout",
     "output_type": "stream",
     "text": [
      "This is the format of your plot grid:\n",
      "[ (1,1) x1,y1 ]\n",
      "\n"
     ]
    },
    {
     "data": {
      "text/plain": [
       "'https://plot.ly/~tracewsl/331?share_key=QbevAWkqRJqPozUBubNac1'"
      ]
     },
     "execution_count": 33,
     "metadata": {},
     "output_type": "execute_result"
    }
   ],
   "source": [
    "selection = 'LPC'\n",
    "fig = plot_features(df, selection)\n",
    "py.plot(fig, filename=selection)"
   ]
  },
  {
   "cell_type": "code",
   "execution_count": 17,
   "metadata": {},
   "outputs": [
    {
     "name": "stdout",
     "output_type": "stream",
     "text": [
      "This is the format of your plot grid:\n",
      "[ (1,1) x1,y1 ]   \n",
      "[ (2,1) x2,y2 ]   \n",
      "[ (3,1) x3,y3 ]   \n",
      "[ (4,1) x4,y4 ]   \n",
      "[ (5,1) x5,y5 ]   \n",
      "[ (6,1) x6,y6 ]   \n",
      "[ (7,1) x7,y7 ]   \n",
      "[ (8,1) x8,y8 ]   \n",
      "[ (9,1) x9,y9 ]   \n",
      "[ (10,1) x10,y10 ]\n",
      "\n"
     ]
    },
    {
     "data": {
      "text/plain": [
       "'https://plot.ly/~tracewsl/317?share_key=08PLdeSz12ozUBZcGWpmUg'"
      ]
     },
     "execution_count": 17,
     "metadata": {},
     "output_type": "execute_result"
    }
   ],
   "source": [
    "selection = 'LSF'\n",
    "fig = plot_features(df, selection)\n",
    "py.plot(fig, filename=selection)"
   ]
  },
  {
   "cell_type": "code",
   "execution_count": 18,
   "metadata": {},
   "outputs": [
    {
     "name": "stdout",
     "output_type": "stream",
     "text": [
      "This is the format of your plot grid:\n",
      "[ (1,1) x1,y1 ]   \n",
      "[ (2,1) x2,y2 ]   \n",
      "[ (3,1) x3,y3 ]   \n",
      "[ (4,1) x4,y4 ]   \n",
      "[ (5,1) x5,y5 ]   \n",
      "[ (6,1) x6,y6 ]   \n",
      "[ (7,1) x7,y7 ]   \n",
      "[ (8,1) x8,y8 ]   \n",
      "[ (9,1) x9,y9 ]   \n",
      "[ (10,1) x10,y10 ]\n",
      "[ (11,1) x11,y11 ]\n",
      "[ (12,1) x12,y12 ]\n",
      "[ (13,1) x13,y13 ]\n",
      "\n"
     ]
    },
    {
     "data": {
      "text/plain": [
       "'https://plot.ly/~tracewsl/319?share_key=5SdA05qgOjP8NA1nK954gW'"
      ]
     },
     "execution_count": 18,
     "metadata": {},
     "output_type": "execute_result"
    }
   ],
   "source": [
    "selection = 'MFCC'\n",
    "fig = plot_features(df, selection)\n",
    "py.plot(fig, filename=selection)"
   ]
  },
  {
   "cell_type": "code",
   "execution_count": 34,
   "metadata": {},
   "outputs": [
    {
     "name": "stdout",
     "output_type": "stream",
     "text": [
      "This is the format of your plot grid:\n",
      "[ (1,1) x1,y1 ]\n",
      "[ (2,1) x2,y2 ]\n",
      "[ (3,1) x3,y3 ]\n",
      "[ (4,1) x4,y4 ]\n",
      "[ (5,1) x5,y5 ]\n",
      "[ (6,1) x6,y6 ]\n",
      "[ (7,1) x7,y7 ]\n",
      "[ (8,1) x8,y8 ]\n",
      "[ (9,1) x9,y9 ]\n",
      "\n"
     ]
    },
    {
     "data": {
      "text/plain": [
       "'https://plot.ly/~tracewsl/333?share_key=fu233IqjwRZ1qqjcbrdygh'"
      ]
     },
     "execution_count": 34,
     "metadata": {},
     "output_type": "execute_result"
    }
   ],
   "source": [
    "selection = 'OBSI'\n",
    "fig = plot_features(df, selection)\n",
    "py.plot(fig, filename=selection)"
   ]
  },
  {
   "cell_type": "code",
   "execution_count": 19,
   "metadata": {},
   "outputs": [
    {
     "name": "stdout",
     "output_type": "stream",
     "text": [
      "This is the format of your plot grid:\n",
      "[ (1,1) x1,y1 ]   \n",
      "[ (2,1) x2,y2 ]   \n",
      "[ (3,1) x3,y3 ]   \n",
      "[ (4,1) x4,y4 ]   \n",
      "[ (5,1) x5,y5 ]   \n",
      "[ (6,1) x6,y6 ]   \n",
      "[ (7,1) x7,y7 ]   \n",
      "[ (8,1) x8,y8 ]   \n",
      "[ (9,1) x9,y9 ]   \n",
      "[ (10,1) x10,y10 ]\n",
      "[ (11,1) x11,y11 ]\n",
      "[ (12,1) x12,y12 ]\n",
      "[ (13,1) x13,y13 ]\n",
      "[ (14,1) x14,y14 ]\n",
      "[ (15,1) x15,y15 ]\n",
      "[ (16,1) x16,y16 ]\n",
      "[ (17,1) x17,y17 ]\n",
      "[ (18,1) x18,y18 ]\n",
      "[ (19,1) x19,y19 ]\n",
      "\n"
     ]
    },
    {
     "data": {
      "text/plain": [
       "'https://plot.ly/~tracewsl/321?share_key=lApd3QLTyp9s3XA36uHNbi'"
      ]
     },
     "execution_count": 19,
     "metadata": {},
     "output_type": "execute_result"
    }
   ],
   "source": [
    "selection = 'SpectralCrestFactorPerBand'\n",
    "fig = plot_features(df, selection)\n",
    "py.plot(fig, filename=selection)"
   ]
  },
  {
   "cell_type": "code",
   "execution_count": 20,
   "metadata": {},
   "outputs": [
    {
     "name": "stdout",
     "output_type": "stream",
     "text": [
      "This is the format of your plot grid:\n",
      "[ (1,1) x1,y1 ]\n",
      "\n"
     ]
    },
    {
     "data": {
      "text/plain": [
       "'https://plot.ly/~tracewsl/323?share_key=Z8wX3wdrksuFeAcQwk0Egi'"
      ]
     },
     "execution_count": 20,
     "metadata": {},
     "output_type": "execute_result"
    }
   ],
   "source": [
    "selection = 'SpectralFlatness'\n",
    "fig = plot_features(df, selection)\n",
    "py.plot(fig, filename=selection)"
   ]
  },
  {
   "cell_type": "code",
   "execution_count": 21,
   "metadata": {},
   "outputs": [
    {
     "name": "stdout",
     "output_type": "stream",
     "text": [
      "This is the format of your plot grid:\n",
      "[ (1,1) x1,y1 ]\n",
      "\n"
     ]
    },
    {
     "data": {
      "text/plain": [
       "'https://plot.ly/~tracewsl/325?share_key=yYUfHOjwzXF1CkOhghjELA'"
      ]
     },
     "execution_count": 21,
     "metadata": {},
     "output_type": "execute_result"
    }
   ],
   "source": [
    "selection = 'SpectralFlux'\n",
    "fig = plot_features(df, selection)\n",
    "py.plot(fig, filename=selection)"
   ]
  },
  {
   "cell_type": "code",
   "execution_count": 22,
   "metadata": {},
   "outputs": [
    {
     "name": "stdout",
     "output_type": "stream",
     "text": [
      "This is the format of your plot grid:\n",
      "[ (1,1) x1,y1 ]\n",
      "\n"
     ]
    },
    {
     "data": {
      "text/plain": [
       "'https://plot.ly/~tracewsl/327?share_key=iYdp06DseJNwqnWCnUZBbv'"
      ]
     },
     "execution_count": 22,
     "metadata": {},
     "output_type": "execute_result"
    }
   ],
   "source": [
    "selection = 'SpectralRolloff'\n",
    "fig = plot_features(df, selection)\n",
    "py.plot(fig, filename=selection)"
   ]
  },
  {
   "cell_type": "code",
   "execution_count": 23,
   "metadata": {},
   "outputs": [
    {
     "name": "stdout",
     "output_type": "stream",
     "text": [
      "This is the format of your plot grid:\n",
      "[ (1,1) x1,y1 ]\n",
      "\n"
     ]
    },
    {
     "data": {
      "text/plain": [
       "'https://plot.ly/~tracewsl/329?share_key=Xk58B0O0iBBy4o0SvbJQKJ'"
      ]
     },
     "execution_count": 23,
     "metadata": {},
     "output_type": "execute_result"
    }
   ],
   "source": [
    "selection = 'SpectralVariation'\n",
    "fig = plot_features(df, selection)\n",
    "py.plot(fig, filename=selection)"
   ]
  },
  {
   "cell_type": "code",
   "execution_count": 34,
   "metadata": {},
   "outputs": [],
   "source": [
    "nice_features =  ['freq_Q25', 'freq_Q75', 'freq_mean', 'freq_median',\n",
    "       'freq_mode', 'freq_peak', 'offset', 'onset', 'pitch_IQR',\n",
    "       'pitch_Q25', 'pitch_Q75', 'pitch_max', 'pitch_mean',\n",
    "       'pitch_median', 'pitch_min', 'yaafe_LPC', 'yaafe_LSF.0', 'yaafe_LSF.1',\n",
    "       'yaafe_LSF.2', 'yaafe_LSF.3', 'yaafe_LSF.4', 'yaafe_LSF.5',\n",
    "       'yaafe_LSF.6', 'yaafe_LSF.7', 'yaafe_LSF.8', 'yaafe_LSF.9',\n",
    "       'yaafe_MFCC.0', 'yaafe_MFCC.1', 'yaafe_MFCC.10', 'yaafe_MFCC.11',\n",
    "       'yaafe_MFCC.12', 'yaafe_MFCC.2', 'yaafe_MFCC.3', 'yaafe_MFCC.4',\n",
    "       'yaafe_MFCC.5', 'yaafe_MFCC.6', 'yaafe_MFCC.7', 'yaafe_MFCC.8',\n",
    "       'yaafe_MFCC.9', 'yaafe_OBSI.0', 'yaafe_OBSI.1', 'yaafe_OBSI.2',\n",
    "       'yaafe_OBSI.3', 'yaafe_OBSI.4', 'yaafe_OBSI.5', 'yaafe_OBSI.6',\n",
    "       'yaafe_OBSI.7', 'yaafe_OBSI.8', 'yaafe_SpectralFlatness',\n",
    "       'yaafe_SpectralFlux', 'yaafe_SpectralRolloff',\n",
    "       'yaafe_SpectralVariation', 'petrel', 'filename']"
   ]
  },
  {
   "cell_type": "code",
   "execution_count": 35,
   "metadata": {},
   "outputs": [
    {
     "data": {
      "text/plain": [
       "['freq_Q25',\n",
       " 'freq_Q75',\n",
       " 'freq_mean',\n",
       " 'freq_median',\n",
       " 'freq_mode',\n",
       " 'freq_peak',\n",
       " 'offset',\n",
       " 'onset',\n",
       " 'pitch_IQR',\n",
       " 'pitch_Q25',\n",
       " 'pitch_Q75',\n",
       " 'pitch_max',\n",
       " 'pitch_mean',\n",
       " 'pitch_median',\n",
       " 'pitch_min',\n",
       " 'yaafe_LPC',\n",
       " 'yaafe_LSF.0',\n",
       " 'yaafe_LSF.1',\n",
       " 'yaafe_LSF.2',\n",
       " 'yaafe_LSF.3',\n",
       " 'yaafe_LSF.4',\n",
       " 'yaafe_LSF.5',\n",
       " 'yaafe_LSF.6',\n",
       " 'yaafe_LSF.7',\n",
       " 'yaafe_LSF.8',\n",
       " 'yaafe_LSF.9',\n",
       " 'yaafe_MFCC.0',\n",
       " 'yaafe_MFCC.1',\n",
       " 'yaafe_MFCC.10',\n",
       " 'yaafe_MFCC.11',\n",
       " 'yaafe_MFCC.12',\n",
       " 'yaafe_MFCC.2',\n",
       " 'yaafe_MFCC.3',\n",
       " 'yaafe_MFCC.4',\n",
       " 'yaafe_MFCC.5',\n",
       " 'yaafe_MFCC.6',\n",
       " 'yaafe_MFCC.7',\n",
       " 'yaafe_MFCC.8',\n",
       " 'yaafe_MFCC.9',\n",
       " 'yaafe_OBSI.0',\n",
       " 'yaafe_OBSI.1',\n",
       " 'yaafe_OBSI.2',\n",
       " 'yaafe_OBSI.3',\n",
       " 'yaafe_OBSI.4',\n",
       " 'yaafe_OBSI.5',\n",
       " 'yaafe_OBSI.6',\n",
       " 'yaafe_OBSI.7',\n",
       " 'yaafe_OBSI.8',\n",
       " 'yaafe_SpectralFlatness',\n",
       " 'yaafe_SpectralFlux',\n",
       " 'yaafe_SpectralRolloff',\n",
       " 'yaafe_SpectralVariation',\n",
       " 'petrel',\n",
       " 'filename']"
      ]
     },
     "execution_count": 35,
     "metadata": {},
     "output_type": "execute_result"
    }
   ],
   "source": [
    "nice_features"
   ]
  },
  {
   "cell_type": "code",
   "execution_count": null,
   "metadata": {},
   "outputs": [],
   "source": []
  }
 ],
 "metadata": {
  "kernelspec": {
   "display_name": "Python 3",
   "language": "python",
   "name": "python3"
  },
  "language_info": {
   "codemirror_mode": {
    "name": "ipython",
    "version": 3
   },
   "file_extension": ".py",
   "mimetype": "text/x-python",
   "name": "python",
   "nbconvert_exporter": "python",
   "pygments_lexer": "ipython3",
   "version": "3.6.8"
  }
 },
 "nbformat": 4,
 "nbformat_minor": 2
}
