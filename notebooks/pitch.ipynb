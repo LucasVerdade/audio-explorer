{
 "cells": [
  {
   "cell_type": "code",
   "execution_count": 2,
   "metadata": {},
   "outputs": [],
   "source": [
    "%matplotlib inline\n",
    "\n",
    "import wave\n",
    "import aubio\n",
    "import numpy as np\n",
    "import pandas as pd\n",
    "import matplotlib.pyplot as plt\n",
    "from scipy.io import wavfile"
   ]
  },
  {
   "cell_type": "code",
   "execution_count": 93,
   "metadata": {},
   "outputs": [],
   "source": [
    "def get_pitch_stats(signal: np.ndarray, fs: int, block_size: int, hop: int, tolerance: float = 0.2,\n",
    "                    algorithm = 'yinfft') -> dict:\n",
    "    \"\"\"\n",
    "    Get basic statistic on pitch in the given signal\n",
    "    :param signal: 1-d signal\n",
    "    :param fs: sampling frequency\n",
    "    :param block_size: window size\n",
    "    :param hop: size of a hop between frames\n",
    "    :param tolerance:  tolerance for the pitch detection algorithm (for aubio)\n",
    "    :return:\n",
    "    \"\"\"\n",
    "    pitch_o = aubio.pitch(algorithm, block_size, hop, fs)\n",
    "    pitch_o.set_unit('Hz')\n",
    "    pitch_o.set_tolerance(tolerance)\n",
    "    signal_win = np.array_split(signal, np.arange(hop, len(signal), hop))\n",
    "\n",
    "    pitch_array = []\n",
    "    for frame in signal_win[:-1]:\n",
    "        pitch = pitch_o(frame)[0]\n",
    "        confidence = pitch_o.get_confidence()\n",
    "        print(pitch, confidence)\n",
    "        if pitch > 0:\n",
    "            pitch_array.append(pitch)\n",
    "\n",
    "    if pitch_array:\n",
    "        pitch_array = np.array(pitch_array)\n",
    "        Q25, Q50, Q75 = np.quantile(pitch_array, [0.25, 0.5, 0.75])\n",
    "        IQR = Q75 - Q25\n",
    "        median = np.median(pitch_array)\n",
    "    else:\n",
    "        Q25 = 0\n",
    "        Q50 = 0\n",
    "        Q75 = 0\n",
    "        median = 0\n",
    "        IQR = 0\n",
    "\n",
    "    pitchstats = {\n",
    "        'pitch_median': median,\n",
    "        'pitch_Q25': Q25,\n",
    "        'pitch_Q75': Q75,\n",
    "        'pitch_IQR': IQR\n",
    "    }\n",
    "\n",
    "    return pitchstats"
   ]
  },
  {
   "cell_type": "code",
   "execution_count": 5,
   "metadata": {},
   "outputs": [
    {
     "ename": "NameError",
     "evalue": "name 'dtype' is not defined",
     "output_type": "error",
     "traceback": [
      "\u001b[0;31m---------------------------------------------------------------------------\u001b[0m",
      "\u001b[0;31mNameError\u001b[0m                                 Traceback (most recent call last)",
      "\u001b[0;32m<ipython-input-5-31a816249721>\u001b[0m in \u001b[0;36m<module>\u001b[0;34m\u001b[0m\n\u001b[1;32m      6\u001b[0m \u001b[0mwavread\u001b[0m\u001b[0;34m.\u001b[0m\u001b[0msetpos\u001b[0m\u001b[0;34m(\u001b[0m\u001b[0mstart\u001b[0m\u001b[0;34m)\u001b[0m\u001b[0;34m\u001b[0m\u001b[0;34m\u001b[0m\u001b[0m\n\u001b[1;32m      7\u001b[0m \u001b[0mwav_bytes\u001b[0m \u001b[0;34m=\u001b[0m \u001b[0mwavread\u001b[0m\u001b[0;34m.\u001b[0m\u001b[0mreadframes\u001b[0m\u001b[0;34m(\u001b[0m\u001b[0msample_len\u001b[0m\u001b[0;34m)\u001b[0m\u001b[0;34m\u001b[0m\u001b[0;34m\u001b[0m\u001b[0m\n\u001b[0;32m----> 8\u001b[0;31m \u001b[0mwav_array\u001b[0m \u001b[0;34m=\u001b[0m \u001b[0mnp\u001b[0m\u001b[0;34m.\u001b[0m\u001b[0mfrombuffer\u001b[0m\u001b[0;34m(\u001b[0m\u001b[0mwav_bytes\u001b[0m\u001b[0;34m,\u001b[0m \u001b[0mdtype\u001b[0m\u001b[0;34m=\u001b[0m\u001b[0mdtype\u001b[0m\u001b[0;34m)\u001b[0m\u001b[0;34m\u001b[0m\u001b[0;34m\u001b[0m\u001b[0m\n\u001b[0m",
      "\u001b[0;31mNameError\u001b[0m: name 'dtype' is not defined"
     ]
    }
   ],
   "source": [
    "wavread = wave.open(path, mode='rb') \n",
    "fs = wavread.getframerate()\n",
    "start = int(start_s * fs)\n",
    "end = int(end_s * fs)\n",
    "sample_len = end - start\n",
    "wavread.setpos(start)\n",
    "wav_bytes = wavread.readframes(sample_len)\n",
    "wav_array = np.frombuffer(wav_bytes, dtype=dtype)"
   ]
  },
  {
   "cell_type": "code",
   "execution_count": 6,
   "metadata": {},
   "outputs": [
    {
     "data": {
      "text/plain": [
       "2"
      ]
     },
     "execution_count": 6,
     "metadata": {},
     "output_type": "execute_result"
    }
   ],
   "source": [
    "if wavread.getsampwidth() == 2:\n",
    "    dtype = 'int16'\n",
    "elif wavread.getsampwidth() == 4:\n",
    "    dtype = 'int32'\n",
    "else:\n",
    "    raise NotImplemented('I give up!')"
   ]
  },
  {
   "cell_type": "code",
   "execution_count": null,
   "metadata": {},
   "outputs": [],
   "source": [
    "np.frombuffer()"
   ]
  },
  {
   "cell_type": "code",
   "execution_count": 3,
   "metadata": {},
   "outputs": [],
   "source": [
    "path = '../data/raw/samples/STHELENA-02_20140605_200000_1.wav'\n",
    "start_s = 89.36\n",
    "end_s = 89.56\n",
    "fs, X = wavfile.read(path)\n",
    "sample = X[int(start_s * fs): int(end_s * fs)]"
   ]
  },
  {
   "cell_type": "code",
   "execution_count": 94,
   "metadata": {},
   "outputs": [
    {
     "name": "stdout",
     "output_type": "stream",
     "text": [
      "0.0 0.0\n",
      "0.0 0.0\n",
      "0.0 0.0\n",
      "0.0 0.0\n",
      "0.0 0.0\n",
      "0.0 0.0\n",
      "1252.8036 0.0\n",
      "1249.2765 0.0\n",
      "1237.6617 0.0\n",
      "1237.9026 0.0\n",
      "0.0 0.0\n",
      "3291.5073 0.6054214239120483\n",
      "3044.037 0.7043166160583496\n",
      "1410.8394 0.7516746520996094\n",
      "1356.8446 0.6281684637069702\n",
      "0.0 0.0\n",
      "0.0 0.0\n",
      "0.0 0.0\n",
      "0.0 0.0\n",
      "0.0 0.0\n",
      "0.0 0.0\n",
      "0.0 0.0\n",
      "0.0 0.0\n",
      "0.0 0.0\n"
     ]
    },
    {
     "data": {
      "text/plain": [
       "{'pitch_median': 1304.8241,\n",
       " 'pitch_Q25': 1246.4330139160156,\n",
       " 'pitch_Q75': 1819.1387939453125,\n",
       " 'pitch_IQR': 572.7057800292969}"
      ]
     },
     "execution_count": 94,
     "metadata": {},
     "output_type": "execute_result"
    }
   ],
   "source": [
    "s = sample / (2**15 - 1)\n",
    "p = get_pitch_stats(s.astype('float32'), fs, 512, 128, tolerance=0.4)\n",
    "p"
   ]
  },
  {
   "cell_type": "code",
   "execution_count": 86,
   "metadata": {},
   "outputs": [
    {
     "data": {
      "image/png": "[encoded data removed]",
      "text/plain": [
       "<Figure size 432x288 with 1 Axes>"
      ]
     },
     "metadata": {
      "needs_background": "light"
     },
     "output_type": "display_data"
    }
   ],
   "source": [
    "_ = plt.specgram(sample, NFFT=256, Fs=fs)"
   ]
  },
  {
   "cell_type": "code",
   "execution_count": 92,
   "metadata": {},
   "outputs": [
    {
     "name": "stdout",
     "output_type": "stream",
     "text": [
      "0.0 0.0\n",
      "0.0 0.0\n",
      "0.0 0.0\n",
      "0.0 0.0\n",
      "0.0 0.0\n",
      "0.0 0.0\n",
      "1252.8036 0.0\n",
      "1249.2765 0.0\n",
      "1237.6617 0.0\n",
      "1237.9026 0.0\n",
      "0.0 0.0\n",
      "3291.5073 0.6054214239120483\n",
      "3044.037 0.7043166160583496\n",
      "1410.8394 0.7516746520996094\n",
      "1356.8446 0.6281684637069702\n",
      "0.0 0.0\n",
      "0.0 0.0\n",
      "0.0 0.0\n",
      "0.0 0.0\n",
      "0.0 0.0\n",
      "0.0 0.0\n",
      "0.0 0.0\n",
      "0.0 0.0\n",
      "0.0 0.0\n"
     ]
    }
   ],
   "source": []
  },
  {
   "cell_type": "code",
   "execution_count": 88,
   "metadata": {},
   "outputs": [
    {
     "data": {
      "text/plain": [
       "array([2700.3276  , 2786.5168  , 1027.0936  , 1041.1729  , 3110.4546  ,\n",
       "       3270.7344  , 1252.8036  , 1249.2765  , 1237.6617  , 1237.9026  ,\n",
       "       1224.0204  , 3291.5073  , 3044.037   , 2870.0188  , 3195.488   ,\n",
       "       3265.927   , 3227.9688  , 3110.615   ,  105.255585,  120.22038 ,\n",
       "         64.60435 ], dtype=float32)"
      ]
     },
     "execution_count": 88,
     "metadata": {},
     "output_type": "execute_result"
    }
   ],
   "source": []
  },
  {
   "cell_type": "code",
   "execution_count": null,
   "metadata": {},
   "outputs": [],
   "source": []
  }
 ],
 "metadata": {
  "kernelspec": {
   "display_name": "Python 3",
   "language": "python",
   "name": "python3"
  },
  "language_info": {
   "codemirror_mode": {
    "name": "ipython",
    "version": 3
   },
   "file_extension": ".py",
   "mimetype": "text/x-python",
   "name": "python",
   "nbconvert_exporter": "python",
   "pygments_lexer": "ipython3",
   "version": "3.6.8"
  }
 },
 "nbformat": 4,
 "nbformat_minor": 2
}
