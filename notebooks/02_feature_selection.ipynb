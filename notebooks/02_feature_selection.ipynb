{
 "cells": [
  {
   "cell_type": "markdown",
   "metadata": {},
   "source": [
    "# Feature selection"
   ]
  },
  {
   "cell_type": "code",
   "execution_count": 91,
   "metadata": {},
   "outputs": [],
   "source": [
    "import numpy as np\n",
    "import pandas as pd\n",
    "from sklearn.preprocessing import MinMaxScaler, StandardScaler\n",
    "from sklearn.feature_selection import VarianceThreshold, SelectPercentile, chi2, SelectFromModel\n",
    "from sklearn.svm import LinearSVC"
   ]
  },
  {
   "cell_type": "markdown",
   "metadata": {},
   "source": [
    "Load data and print all features / columns that are present."
   ]
  },
  {
   "cell_type": "code",
   "execution_count": 3,
   "metadata": {},
   "outputs": [
    {
     "data": {
      "text/plain": [
       "array(['freq_IQR', 'freq_Q25', 'freq_Q75', 'freq_mean', 'freq_median',\n",
       "       'freq_mode', 'freq_peak', 'offset', 'onset', 'pitch_IQR',\n",
       "       'pitch_Q25', 'pitch_Q75', 'pitch_max', 'pitch_mean',\n",
       "       'pitch_median', 'pitch_min', 'yaafe_Chroma.0', 'yaafe_Chroma.1',\n",
       "       'yaafe_Chroma.10', 'yaafe_Chroma.11', 'yaafe_Chroma.2',\n",
       "       'yaafe_Chroma.3', 'yaafe_Chroma.4', 'yaafe_Chroma.5',\n",
       "       'yaafe_Chroma.6', 'yaafe_Chroma.7', 'yaafe_Chroma.8',\n",
       "       'yaafe_Chroma.9', 'yaafe_LPC', 'yaafe_LSF.0', 'yaafe_LSF.1',\n",
       "       'yaafe_LSF.2', 'yaafe_LSF.3', 'yaafe_LSF.4', 'yaafe_LSF.5',\n",
       "       'yaafe_LSF.6', 'yaafe_LSF.7', 'yaafe_LSF.8', 'yaafe_LSF.9',\n",
       "       'yaafe_MFCC.0', 'yaafe_MFCC.1', 'yaafe_MFCC.10', 'yaafe_MFCC.11',\n",
       "       'yaafe_MFCC.12', 'yaafe_MFCC.2', 'yaafe_MFCC.3', 'yaafe_MFCC.4',\n",
       "       'yaafe_MFCC.5', 'yaafe_MFCC.6', 'yaafe_MFCC.7', 'yaafe_MFCC.8',\n",
       "       'yaafe_MFCC.9', 'yaafe_OBSI.0', 'yaafe_OBSI.1', 'yaafe_OBSI.2',\n",
       "       'yaafe_OBSI.3', 'yaafe_OBSI.4', 'yaafe_OBSI.5', 'yaafe_OBSI.6',\n",
       "       'yaafe_OBSI.7', 'yaafe_OBSI.8',\n",
       "       'yaafe_SpectralCrestFactorPerBand.0',\n",
       "       'yaafe_SpectralCrestFactorPerBand.1',\n",
       "       'yaafe_SpectralCrestFactorPerBand.10',\n",
       "       'yaafe_SpectralCrestFactorPerBand.11',\n",
       "       'yaafe_SpectralCrestFactorPerBand.12',\n",
       "       'yaafe_SpectralCrestFactorPerBand.13',\n",
       "       'yaafe_SpectralCrestFactorPerBand.14',\n",
       "       'yaafe_SpectralCrestFactorPerBand.15',\n",
       "       'yaafe_SpectralCrestFactorPerBand.16',\n",
       "       'yaafe_SpectralCrestFactorPerBand.17',\n",
       "       'yaafe_SpectralCrestFactorPerBand.18',\n",
       "       'yaafe_SpectralCrestFactorPerBand.2',\n",
       "       'yaafe_SpectralCrestFactorPerBand.3',\n",
       "       'yaafe_SpectralCrestFactorPerBand.4',\n",
       "       'yaafe_SpectralCrestFactorPerBand.5',\n",
       "       'yaafe_SpectralCrestFactorPerBand.6',\n",
       "       'yaafe_SpectralCrestFactorPerBand.7',\n",
       "       'yaafe_SpectralCrestFactorPerBand.8',\n",
       "       'yaafe_SpectralCrestFactorPerBand.9', 'yaafe_SpectralFlatness',\n",
       "       'yaafe_SpectralFlux', 'yaafe_SpectralRolloff',\n",
       "       'yaafe_SpectralVariation', 'petrel', 'filename'], dtype=object)"
      ]
     },
     "execution_count": 3,
     "metadata": {},
     "output_type": "execute_result"
    }
   ],
   "source": [
    "df_samples_all = pd.read_csv('s3://stormpetrels/samples/labels/samples_all.csv')\n",
    "df_samples_all.columns.values"
   ]
  },
  {
   "cell_type": "markdown",
   "metadata": {},
   "source": [
    "Thanks to [plot_features.ipynb](plot_features.ipynb) we were able to make a preselection of decent features for modelling. Here are the graphs:\n",
    "\n",
    "* [Frequency statistics](https://plot.ly/~tracewsl/311?share_key=604K67TKBBwoLRPqZMrelQ)\n",
    "* [Pitch statistics](https://plot.ly/~tracewsl/313?share_key=WoXXOcXzpNk1dGHRPJiya5)\n",
    "* [Chroma](https://plot.ly/~tracewsl/315?share_key=BIa9dCSsJ74rBJuQFUJN3H)\n",
    "* [Linear Predictor Coefficients](https://plot.ly/~tracewsl/331?share_key=QbevAWkqRJqPozUBubNac1)\n",
    "* [Line Spectral Frequency](https://plot.ly/~tracewsl/317?share_key=08PLdeSz12ozUBZcGWpmUg)\n",
    "* [Mel-frequencies cepstrum coefficients](https://plot.ly/~tracewsl/319?share_key=5SdA05qgOjP8NA1nK954gW)\n",
    "* [Octave band signal intensity](https://plot.ly/~tracewsl/333?share_key=fu233IqjwRZ1qqjcbrdygh)\n",
    "* [Crest factors](https://plot.ly/~tracewsl/321?share_key=lApd3QLTyp9s3XA36uHNbi)\n",
    "* [Flatness](https://plot.ly/~tracewsl/323?share_key=Z8wX3wdrksuFeAcQwk0Egi)\n",
    "* [Flux](https://plot.ly/~tracewsl/325?share_key=yYUfHOjwzXF1CkOhghjELA)\n",
    "* [Rolloff](https://plot.ly/~tracewsl/327?share_key=iYdp06DseJNwqnWCnUZBbv)\n",
    "* [Variation](https://plot.ly/~tracewsl/329?share_key=Xk58B0O0iBBy4o0SvbJQKJ)"
   ]
  },
  {
   "cell_type": "code",
   "execution_count": 5,
   "metadata": {},
   "outputs": [],
   "source": [
    "nice_features =  ['freq_Q25', 'freq_Q75', 'freq_mean', 'freq_median',\n",
    "       'freq_mode', 'freq_peak', 'offset', 'onset', 'pitch_IQR',\n",
    "       'pitch_Q25', 'pitch_Q75', 'pitch_max', 'pitch_mean',\n",
    "       'pitch_median', 'pitch_min', 'yaafe_LPC', 'yaafe_LSF.0', 'yaafe_LSF.1',\n",
    "       'yaafe_LSF.2', 'yaafe_LSF.3', 'yaafe_LSF.4', 'yaafe_LSF.5',\n",
    "       'yaafe_LSF.6', 'yaafe_LSF.7', 'yaafe_LSF.8', 'yaafe_LSF.9',\n",
    "       'yaafe_MFCC.0', 'yaafe_MFCC.1', 'yaafe_MFCC.10', 'yaafe_MFCC.11',\n",
    "       'yaafe_MFCC.12', 'yaafe_MFCC.2', 'yaafe_MFCC.3', 'yaafe_MFCC.4',\n",
    "       'yaafe_MFCC.5', 'yaafe_MFCC.6', 'yaafe_MFCC.7', 'yaafe_MFCC.8',\n",
    "       'yaafe_MFCC.9', 'yaafe_OBSI.0', 'yaafe_OBSI.1', 'yaafe_OBSI.2',\n",
    "       'yaafe_OBSI.3', 'yaafe_OBSI.4', 'yaafe_OBSI.5', 'yaafe_OBSI.6',\n",
    "       'yaafe_OBSI.7', 'yaafe_OBSI.8', 'yaafe_SpectralFlatness',\n",
    "       'yaafe_SpectralFlux', 'yaafe_SpectralRolloff',\n",
    "       'yaafe_SpectralVariation']"
   ]
  },
  {
   "cell_type": "markdown",
   "metadata": {},
   "source": [
    "The selection is somewhat arbitrary, but allows to incorportate our knowledge on what various audio features bring to the table. We can also use strategies that are grounded in e.g. variation threshold that removes all features whose variance doesn’t meet some threshold."
   ]
  },
  {
   "cell_type": "code",
   "execution_count": 77,
   "metadata": {},
   "outputs": [],
   "source": [
    "def df_selector(selector, data, y=None):\n",
    "    if y is not None:\n",
    "        selector.fit(data, y)\n",
    "    else:\n",
    "        selector.fit(data)\n",
    "    return data[data.columns[selector.get_support(indices=True)]]"
   ]
  },
  {
   "cell_type": "code",
   "execution_count": 73,
   "metadata": {},
   "outputs": [],
   "source": [
    "df = df_samples_all.drop(columns=['petrel', 'filename', 'onset', 'offset']) # drop non-features"
   ]
  },
  {
   "cell_type": "code",
   "execution_count": 78,
   "metadata": {},
   "outputs": [
    {
     "name": "stdout",
     "output_type": "stream",
     "text": [
      "Threshold 0.1 Features left: 48\n",
      "Threshold 0.2 Features left: 43\n",
      "Threshold 0.3 Features left: 38\n",
      "Threshold 0.4 Features left: 38\n",
      "Threshold 0.5 Features left: 34\n",
      "Threshold 0.6 Features left: 33\n",
      "Threshold 0.7 Features left: 32\n",
      "Threshold 0.8 Features left: 31\n",
      "Threshold 0.9 Features left: 30\n"
     ]
    }
   ],
   "source": [
    "for threshold in np.linspace(0.1, 0.9, 9):\n",
    "    selector = VarianceThreshold(threshold)\n",
    "    df_variance_threshold = df_selector(selector, df)\n",
    "    print(f'Threshold {threshold:.1f} Features left: {df_variance_threshold.shape[1]}')"
   ]
  },
  {
   "cell_type": "code",
   "execution_count": 75,
   "metadata": {},
   "outputs": [
    {
     "data": {
      "text/plain": [
       "array(['freq_IQR', 'freq_Q25', 'freq_Q75', 'freq_mean', 'freq_median',\n",
       "       'freq_mode', 'freq_peak', 'pitch_IQR', 'pitch_Q25', 'pitch_Q75',\n",
       "       'pitch_max', 'pitch_mean', 'pitch_median', 'pitch_min',\n",
       "       'yaafe_Chroma.0', 'yaafe_Chroma.1', 'yaafe_Chroma.10',\n",
       "       'yaafe_Chroma.11', 'yaafe_Chroma.2', 'yaafe_Chroma.3',\n",
       "       'yaafe_Chroma.4', 'yaafe_Chroma.5', 'yaafe_Chroma.6',\n",
       "       'yaafe_Chroma.7', 'yaafe_Chroma.8', 'yaafe_Chroma.9',\n",
       "       'yaafe_MFCC.0', 'yaafe_MFCC.1', 'yaafe_OBSI.0', 'yaafe_OBSI.1',\n",
       "       'yaafe_OBSI.2', 'yaafe_OBSI.3', 'yaafe_OBSI.4', 'yaafe_OBSI.5',\n",
       "       'yaafe_OBSI.6', 'yaafe_OBSI.7', 'yaafe_OBSI.8',\n",
       "       'yaafe_SpectralCrestFactorPerBand.10',\n",
       "       'yaafe_SpectralCrestFactorPerBand.11',\n",
       "       'yaafe_SpectralCrestFactorPerBand.14',\n",
       "       'yaafe_SpectralCrestFactorPerBand.15', 'yaafe_SpectralFlux',\n",
       "       'yaafe_SpectralRolloff'], dtype=object)"
      ]
     },
     "execution_count": 75,
     "metadata": {},
     "output_type": "execute_result"
    }
   ],
   "source": [
    "selector = VarianceThreshold(0.2)\n",
    "df_variance_threshold = df_selector(selector, df)\n",
    "df_variance_threshold.columns.values"
   ]
  },
  {
   "cell_type": "markdown",
   "metadata": {},
   "source": [
    "The advantage of the latter is that it's simple and does not introduced any bias by looking at target variable. Univariate feature selection works by selecting the best features based on univariate statistical tests."
   ]
  },
  {
   "cell_type": "code",
   "execution_count": 83,
   "metadata": {},
   "outputs": [
    {
     "data": {
      "text/plain": [
       "array(['freq_Q25', 'freq_Q75', 'freq_mean', 'freq_median', 'freq_mode',\n",
       "       'freq_peak', 'pitch_IQR', 'pitch_Q25', 'pitch_Q75', 'pitch_max',\n",
       "       'pitch_mean', 'pitch_median', 'pitch_min', 'yaafe_LPC',\n",
       "       'yaafe_LSF.0', 'yaafe_LSF.1',\n",
       "       'yaafe_SpectralCrestFactorPerBand.14'], dtype=object)"
      ]
     },
     "execution_count": 83,
     "metadata": {},
     "output_type": "execute_result"
    }
   ],
   "source": [
    "df = df_samples_all.drop(columns=['filename', 'onset', 'offset']) # drop non-features\n",
    "y = df.pop('petrel')\n",
    "scaler = MinMaxScaler()\n",
    "df[df.columns] = scaler.fit_transform(df)\n",
    "selector = SelectPercentile(chi2, percentile=20)\n",
    "df_percentile = df_selector(selector, df, y)\n",
    "df_percentile.columns.values"
   ]
  },
  {
   "cell_type": "markdown",
   "metadata": {},
   "source": [
    "Instead of using a statistical test, we can use a meta-transformer that can be used along with any estimator that has a `coef_` or `feature_importances_` attribute after fitting. The features are considered unimportant and removed, if the corresponding `coef_` or `feature_importances_` values are below the provided threshold parameter. "
   ]
  },
  {
   "cell_type": "code",
   "execution_count": 106,
   "metadata": {},
   "outputs": [
    {
     "data": {
      "text/plain": [
       "Index(['freq_IQR', 'pitch_Q75', 'pitch_max', 'pitch_mean', 'pitch_median',\n",
       "       'pitch_min', 'yaafe_MFCC.11', 'yaafe_MFCC.3', 'yaafe_MFCC.5',\n",
       "       'yaafe_OBSI.3', 'yaafe_SpectralCrestFactorPerBand.12',\n",
       "       'yaafe_SpectralCrestFactorPerBand.13',\n",
       "       'yaafe_SpectralCrestFactorPerBand.14',\n",
       "       'yaafe_SpectralCrestFactorPerBand.9', 'yaafe_SpectralVariation'],\n",
       "      dtype='object')"
      ]
     },
     "execution_count": 106,
     "metadata": {},
     "output_type": "execute_result"
    }
   ],
   "source": [
    "df = df_samples_all.drop(columns=['filename', 'onset', 'offset']) # drop non-features\n",
    "y = df.pop('petrel')\n",
    "scaler = StandardScaler()\n",
    "df[df.columns] = scaler.fit_transform(df)\n",
    "lsvc = LinearSVC(C=0.01, penalty=\"l1\", dual=False).fit(df, y)\n",
    "model = SelectFromModel(lsvc, prefit=True)\n",
    "feature_idx = model.get_support()\n",
    "feature_name = df.columns[feature_idx]\n",
    "feature_name"
   ]
  },
  {
   "cell_type": "code",
   "execution_count": null,
   "metadata": {},
   "outputs": [],
   "source": []
  }
 ],
 "metadata": {
  "kernelspec": {
   "display_name": "Python 3",
   "language": "python",
   "name": "python3"
  },
  "language_info": {
   "codemirror_mode": {
    "name": "ipython",
    "version": 3
   },
   "file_extension": ".py",
   "mimetype": "text/x-python",
   "name": "python",
   "nbconvert_exporter": "python",
   "pygments_lexer": "ipython3",
   "version": "3.6.8"
  }
 },
 "nbformat": 4,
 "nbformat_minor": 2
}
