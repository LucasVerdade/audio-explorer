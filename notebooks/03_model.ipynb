{
 "cells": [
  {
   "cell_type": "markdown",
   "metadata": {},
   "source": [
    "# Modelling\n",
    "\n",
    "Train and test model based on the features we have defined in the previous notebook."
   ]
  },
  {
   "cell_type": "code",
   "execution_count": 43,
   "metadata": {},
   "outputs": [],
   "source": [
    "%matplotlib inline\n",
    "\n",
    "import os\n",
    "import sys\n",
    "import glob\n",
    "import pandas as pd\n",
    "import xgboost as xgb\n",
    "import matplotlib.pyplot as plt\n",
    "import plotly.plotly as py\n",
    "import plotly.graph_objs as go\n",
    "from sklearn.model_selection import StratifiedKFold, GridSearchCV\n",
    "from xgboost import XGBClassifier"
   ]
  },
  {
   "cell_type": "markdown",
   "metadata": {},
   "source": [
    "Load data and print all features / columns that are present."
   ]
  },
  {
   "cell_type": "code",
   "execution_count": 2,
   "metadata": {},
   "outputs": [
    {
     "data": {
      "text/plain": [
       "array(['freq_IQR', 'freq_Q25', 'freq_Q75', 'freq_mean', 'freq_median',\n",
       "       'freq_mode', 'freq_peak', 'offset', 'onset', 'pitch_IQR',\n",
       "       'pitch_Q25', 'pitch_Q75', 'pitch_max', 'pitch_mean',\n",
       "       'pitch_median', 'pitch_min', 'yaafe_Chroma.0', 'yaafe_Chroma.1',\n",
       "       'yaafe_Chroma.10', 'yaafe_Chroma.11', 'yaafe_Chroma.2',\n",
       "       'yaafe_Chroma.3', 'yaafe_Chroma.4', 'yaafe_Chroma.5',\n",
       "       'yaafe_Chroma.6', 'yaafe_Chroma.7', 'yaafe_Chroma.8',\n",
       "       'yaafe_Chroma.9', 'yaafe_LPC', 'yaafe_LSF.0', 'yaafe_LSF.1',\n",
       "       'yaafe_LSF.2', 'yaafe_LSF.3', 'yaafe_LSF.4', 'yaafe_LSF.5',\n",
       "       'yaafe_LSF.6', 'yaafe_LSF.7', 'yaafe_LSF.8', 'yaafe_LSF.9',\n",
       "       'yaafe_MFCC.0', 'yaafe_MFCC.1', 'yaafe_MFCC.10', 'yaafe_MFCC.11',\n",
       "       'yaafe_MFCC.12', 'yaafe_MFCC.2', 'yaafe_MFCC.3', 'yaafe_MFCC.4',\n",
       "       'yaafe_MFCC.5', 'yaafe_MFCC.6', 'yaafe_MFCC.7', 'yaafe_MFCC.8',\n",
       "       'yaafe_MFCC.9', 'yaafe_OBSI.0', 'yaafe_OBSI.1', 'yaafe_OBSI.2',\n",
       "       'yaafe_OBSI.3', 'yaafe_OBSI.4', 'yaafe_OBSI.5', 'yaafe_OBSI.6',\n",
       "       'yaafe_OBSI.7', 'yaafe_OBSI.8',\n",
       "       'yaafe_SpectralCrestFactorPerBand.0',\n",
       "       'yaafe_SpectralCrestFactorPerBand.1',\n",
       "       'yaafe_SpectralCrestFactorPerBand.10',\n",
       "       'yaafe_SpectralCrestFactorPerBand.11',\n",
       "       'yaafe_SpectralCrestFactorPerBand.12',\n",
       "       'yaafe_SpectralCrestFactorPerBand.13',\n",
       "       'yaafe_SpectralCrestFactorPerBand.14',\n",
       "       'yaafe_SpectralCrestFactorPerBand.15',\n",
       "       'yaafe_SpectralCrestFactorPerBand.16',\n",
       "       'yaafe_SpectralCrestFactorPerBand.17',\n",
       "       'yaafe_SpectralCrestFactorPerBand.18',\n",
       "       'yaafe_SpectralCrestFactorPerBand.2',\n",
       "       'yaafe_SpectralCrestFactorPerBand.3',\n",
       "       'yaafe_SpectralCrestFactorPerBand.4',\n",
       "       'yaafe_SpectralCrestFactorPerBand.5',\n",
       "       'yaafe_SpectralCrestFactorPerBand.6',\n",
       "       'yaafe_SpectralCrestFactorPerBand.7',\n",
       "       'yaafe_SpectralCrestFactorPerBand.8',\n",
       "       'yaafe_SpectralCrestFactorPerBand.9', 'yaafe_SpectralFlatness',\n",
       "       'yaafe_SpectralFlux', 'yaafe_SpectralRolloff',\n",
       "       'yaafe_SpectralVariation', 'petrel', 'filename'], dtype=object)"
      ]
     },
     "execution_count": 2,
     "metadata": {},
     "output_type": "execute_result"
    }
   ],
   "source": [
    "df_samples_all = pd.read_csv('s3://stormpetrels/samples/labels/samples_all.csv')\n",
    "df_samples_all.columns.values"
   ]
  },
  {
   "cell_type": "markdown",
   "metadata": {},
   "source": [
    "The data comes from number of files. Put some of them aside for testing and take rest for training."
   ]
  },
  {
   "cell_type": "code",
   "execution_count": 3,
   "metadata": {},
   "outputs": [
    {
     "data": {
      "text/plain": [
       "array(['STHELENA-02_20140605_200000_6', 'STHELENA-02_20140605_200000_9',\n",
       "       'STHELENA-02_20140605_200000_5', 'STHELENA-02_20140605_200000_8',\n",
       "       'STHELENA-02_20140605_200000_13', 'STHELENA-02_20140605_200000_3',\n",
       "       'STHELENA-02_20140605_200000_11', 'STHELENA-02_20140605_200000_7',\n",
       "       'STHELENA-02_20140605_200000_4', 'STHELENA-02_20140605_200000_1',\n",
       "       'STHELENA-02_20140605_200000_10', 'STHELENA-02_20140605_200000_2',\n",
       "       'STHELENA-02_20140605_200000_12'], dtype=object)"
      ]
     },
     "execution_count": 3,
     "metadata": {},
     "output_type": "execute_result"
    }
   ],
   "source": [
    "df_samples_all['filename'].unique()"
   ]
  },
  {
   "cell_type": "code",
   "execution_count": 4,
   "metadata": {},
   "outputs": [],
   "source": [
    "df_train = df_samples_all[~df_samples_all['filename'].str.contains('STHELENA-02_20140605_200000_1[0-9]')]\n",
    "y_train = df_train.pop('petrel')\n",
    "df_test = df_samples_all[df_samples_all['filename'].str.contains('STHELENA-02_20140605_200000_1[0-9]')]\n",
    "y_test = df_test.pop('petrel')"
   ]
  },
  {
   "cell_type": "markdown",
   "metadata": {},
   "source": [
    "`0` denotes *noise* and `1` *petrels*."
   ]
  },
  {
   "cell_type": "code",
   "execution_count": 5,
   "metadata": {},
   "outputs": [
    {
     "data": {
      "text/plain": [
       "1    1626\n",
       "0    1205\n",
       "Name: petrel, dtype: int64"
      ]
     },
     "execution_count": 5,
     "metadata": {},
     "output_type": "execute_result"
    }
   ],
   "source": [
    "y_train.value_counts()"
   ]
  },
  {
   "cell_type": "code",
   "execution_count": 6,
   "metadata": {},
   "outputs": [
    {
     "data": {
      "text/plain": [
       "1    613\n",
       "0    371\n",
       "Name: petrel, dtype: int64"
      ]
     },
     "execution_count": 6,
     "metadata": {},
     "output_type": "execute_result"
    }
   ],
   "source": [
    "y_test.value_counts()"
   ]
  },
  {
   "cell_type": "code",
   "execution_count": 7,
   "metadata": {},
   "outputs": [],
   "source": [
    "features =  ['freq_Q25', 'freq_Q75', 'freq_mean', 'freq_median',\n",
    "       'freq_mode', 'freq_peak', 'pitch_IQR',\n",
    "       'pitch_Q25', 'pitch_Q75', 'pitch_max', 'pitch_mean',\n",
    "       'pitch_median', 'pitch_min', 'yaafe_LPC', 'yaafe_LSF.0', 'yaafe_LSF.1',\n",
    "       'yaafe_LSF.2', 'yaafe_LSF.3', 'yaafe_LSF.4', 'yaafe_LSF.5',\n",
    "       'yaafe_LSF.6', 'yaafe_LSF.7', 'yaafe_LSF.8', 'yaafe_LSF.9',\n",
    "       'yaafe_MFCC.0', 'yaafe_MFCC.1', 'yaafe_MFCC.10', 'yaafe_MFCC.11',\n",
    "       'yaafe_MFCC.12', 'yaafe_MFCC.2', 'yaafe_MFCC.3', 'yaafe_MFCC.4',\n",
    "       'yaafe_MFCC.5', 'yaafe_MFCC.6', 'yaafe_MFCC.7', 'yaafe_MFCC.8',\n",
    "       'yaafe_MFCC.9', 'yaafe_OBSI.0', 'yaafe_OBSI.1', 'yaafe_OBSI.2',\n",
    "       'yaafe_OBSI.3', 'yaafe_OBSI.4', 'yaafe_OBSI.5', 'yaafe_OBSI.6',\n",
    "       'yaafe_OBSI.7', 'yaafe_OBSI.8', 'yaafe_SpectralFlatness',\n",
    "       'yaafe_SpectralFlux', 'yaafe_SpectralRolloff',\n",
    "       'yaafe_SpectralVariation']\n",
    "\n",
    "dtrain = xgb.DMatrix(df_train[features], label=y_train.values)\n",
    "dtest = xgb.DMatrix(df_test[features], label=y_test.values)"
   ]
  },
  {
   "cell_type": "code",
   "execution_count": 8,
   "metadata": {},
   "outputs": [
    {
     "name": "stdout",
     "output_type": "stream",
     "text": [
      "[0]\teval-error:0.013211\ttrain-error:0.020487\n",
      "Multiple eval metrics have been passed: 'train-error' will be used for early stopping.\n",
      "\n",
      "Will train until train-error hasn't improved in 20 rounds.\n",
      "[1]\teval-error:0.009146\ttrain-error:0.018368\n",
      "[2]\teval-error:0.010163\ttrain-error:0.018015\n",
      "[3]\teval-error:0.009146\ttrain-error:0.018368\n",
      "[4]\teval-error:0.009146\ttrain-error:0.018015\n",
      "[5]\teval-error:0.010163\ttrain-error:0.018721\n",
      "[6]\teval-error:0.010163\ttrain-error:0.018015\n",
      "[7]\teval-error:0.010163\ttrain-error:0.018015\n",
      "[8]\teval-error:0.009146\ttrain-error:0.018721\n",
      "[9]\teval-error:0.009146\ttrain-error:0.018015\n",
      "[10]\teval-error:0.009146\ttrain-error:0.018721\n",
      "[11]\teval-error:0.009146\ttrain-error:0.018015\n",
      "[12]\teval-error:0.009146\ttrain-error:0.018015\n",
      "[13]\teval-error:0.009146\ttrain-error:0.018015\n",
      "[14]\teval-error:0.010163\ttrain-error:0.018015\n",
      "[15]\teval-error:0.010163\ttrain-error:0.018015\n",
      "[16]\teval-error:0.009146\ttrain-error:0.018015\n",
      "[17]\teval-error:0.009146\ttrain-error:0.018015\n",
      "[18]\teval-error:0.009146\ttrain-error:0.018015\n",
      "[19]\teval-error:0.009146\ttrain-error:0.018015\n",
      "[20]\teval-error:0.009146\ttrain-error:0.018015\n",
      "[21]\teval-error:0.009146\ttrain-error:0.018015\n",
      "[22]\teval-error:0.009146\ttrain-error:0.018015\n",
      "Stopping. Best iteration:\n",
      "[2]\teval-error:0.010163\ttrain-error:0.018015\n",
      "\n"
     ]
    }
   ],
   "source": [
    "param = {'max_depth': 3, 'eta': 0.1, 'silent': 0, 'objective': 'binary:logistic', 'subsample': 0.8, 'gamma': 0.1}\n",
    "eval_metric = [\"auc\",\"error\"]\n",
    "watchlist = [(dtest, 'eval'), (dtrain, 'train')]\n",
    "\n",
    "bst = xgb.train(param, dtrain, num_boost_round=100, evals=watchlist, early_stopping_rounds=20)"
   ]
  },
  {
   "cell_type": "code",
   "execution_count": 9,
   "metadata": {},
   "outputs": [
    {
     "data": {
      "text/plain": [
       "<matplotlib.axes._subplots.AxesSubplot at 0x7f5ff5995978>"
      ]
     },
     "execution_count": 9,
     "metadata": {},
     "output_type": "execute_result"
    },
    {
     "data": {
      "image/png": "[encoded data removed]",
      "text/plain": [
       "<Figure size 1440x1440 with 1 Axes>"
      ]
     },
     "metadata": {
      "needs_background": "light"
     },
     "output_type": "display_data"
    }
   ],
   "source": [
    "fig, ax = plt.subplots(figsize=(20, 20))\n",
    "xgb.plot_importance(bst, ax=ax)"
   ]
  },
  {
   "cell_type": "code",
   "execution_count": 10,
   "metadata": {},
   "outputs": [],
   "source": [
    "h5_files = glob.glob('../data/features/h5/*.h5')\n",
    "dfs = []\n",
    "for path in h5_files:\n",
    "    df = pd.read_hdf(path)\n",
    "    name = os.path.splitext(os.path.basename(path))[0]\n",
    "    df['filename'] = name\n",
    "    dfs.append(df)\n",
    "    \n",
    "dfs = pd.concat(dfs)\n",
    "dfs = dfs.rename(columns={'freq_peak.1': 'freq_peak'})\n",
    "dfs = dfs.drop(columns=['freq_peak.2', 'freq_peak.3'])\n",
    "df_pred = dfs[features]\n",
    "p = xgb.DMatrix(df_pred)\n",
    "pred = bst.predict(p)\n",
    "dfs['petrel_prob'] = pred\n",
    "dfs['petrel'] = pred > 0.5"
   ]
  },
  {
   "cell_type": "code",
   "execution_count": 49,
   "metadata": {},
   "outputs": [],
   "source": [
    "dfs = dfs.sort_values(by=['filename', 'onset'])\n",
    "dfs.to_csv('storm_petrels_all.csv', index=False, float_format='%.3f')"
   ]
  },
  {
   "cell_type": "code",
   "execution_count": null,
   "metadata": {},
   "outputs": [],
   "source": []
  },
  {
   "cell_type": "code",
   "execution_count": 11,
   "metadata": {},
   "outputs": [],
   "source": [
    "sel_columns = ['filename', 'onset', 'offset', 'petrel', 'petrel_prob', 'freq_mean', 'freq_median', 'freq_mode',\n",
    "       'freq_Q25', 'freq_Q75', 'freq_IQR', 'freq_peak', 'pitch_median', 'pitch_mean', 'pitch_Q25', 'pitch_Q75', 'pitch_IQR', 'pitch_min',\n",
    "       'pitch_max']\n",
    "\n",
    "df = dfs[sel_columns]\n",
    "df = df.sort_values(by=['filename', 'onset'])"
   ]
  },
  {
   "cell_type": "code",
   "execution_count": 12,
   "metadata": {},
   "outputs": [],
   "source": [
    "df.to_csv('storm_petrels.csv', index=False, float_format='%.3f')"
   ]
  },
  {
   "cell_type": "code",
   "execution_count": 13,
   "metadata": {},
   "outputs": [],
   "source": [
    "sel_columns = ['filename', 'onset', 'offset', 'petrel', 'petrel_prob']\n",
    "df[sel_columns].to_csv('storm_petrels_short.csv', index=False, float_format='%.3f')"
   ]
  },
  {
   "cell_type": "code",
   "execution_count": 47,
   "metadata": {},
   "outputs": [],
   "source": [
    "sel_columns = ['filename', 'onset', 'offset', 'petrel', 'petrel_prob', 'freq_mean', 'freq_median', 'freq_mode',\n",
    "       'freq_Q25', 'freq_Q75', 'freq_IQR', 'freq_peak', 'pitch_median', 'pitch_mean', 'pitch_Q25', 'pitch_Q75', 'pitch_IQR', 'pitch_min',\n",
    "       'pitch_max']\n",
    "df_petrels = df[df['petrel']][sel_columns]\n",
    "df_petrels = df_petrels.sort_values(by=['filename', 'onset'])\n",
    "df_petrels.to_csv('storm_petrels.csv', index=False, float_format='%.3f')"
   ]
  },
  {
   "cell_type": "code",
   "execution_count": 15,
   "metadata": {},
   "outputs": [],
   "source": [
    "skf = StratifiedKFold(n_splits=3, shuffle = True, random_state = 1001)"
   ]
  },
  {
   "cell_type": "code",
   "execution_count": 16,
   "metadata": {},
   "outputs": [],
   "source": [
    "xgb_sk = XGBClassifier(learning_rate=0.02, n_estimators=1000, objective='binary:logistic', silent=True, nthread=1)"
   ]
  },
  {
   "cell_type": "code",
   "execution_count": 25,
   "metadata": {},
   "outputs": [],
   "source": [
    "params = {\n",
    " 'max_depth': [3, 4, 5],\n",
    " 'min_child_weight': [1, 3, 5],\n",
    " 'gamma': [0.0, 1, 5],\n",
    " 'alpha': [0.0, 0.1, 0.3],\n",
    " 'colsample_bytree': [0.6, 0.8, 1.0]\n",
    "}\n",
    "\n",
    "grid = GridSearchCV(estimator=xgb_sk, param_grid=params, scoring='roc_auc', n_jobs=7, cv=skf.split(df_train[features].values, y_train), verbose=3)"
   ]
  },
  {
   "cell_type": "code",
   "execution_count": 26,
   "metadata": {},
   "outputs": [
    {
     "name": "stdout",
     "output_type": "stream",
     "text": [
      "Fitting 3 folds for each of 243 candidates, totalling 729 fits\n"
     ]
    },
    {
     "name": "stderr",
     "output_type": "stream",
     "text": [
      "[Parallel(n_jobs=7)]: Using backend LokyBackend with 7 concurrent workers.\n",
      "[Parallel(n_jobs=7)]: Done  18 tasks      | elapsed:    6.5s\n",
      "[Parallel(n_jobs=7)]: Done 114 tasks      | elapsed:   35.9s\n",
      "[Parallel(n_jobs=7)]: Done 274 tasks      | elapsed:  1.6min\n",
      "[Parallel(n_jobs=7)]: Done 498 tasks      | elapsed:  2.9min\n",
      "[Parallel(n_jobs=7)]: Done 729 out of 729 | elapsed:  4.2min finished\n"
     ]
    },
    {
     "data": {
      "text/plain": [
       "GridSearchCV(cv=<generator object _BaseKFold.split at 0x7f5fa9fe3518>,\n",
       "             error_score='raise-deprecating',\n",
       "             estimator=XGBClassifier(base_score=0.5, booster='gbtree',\n",
       "                                     colsample_bylevel=1, colsample_bynode=1,\n",
       "                                     colsample_bytree=1, gamma=0,\n",
       "                                     learning_rate=0.02, max_delta_step=0,\n",
       "                                     max_depth=3, min_child_weight=1,\n",
       "                                     missing=None, n_estimators=1000, n_jobs=1,\n",
       "                                     nthread=1, objective='bi...c',\n",
       "                                     random_state=0, reg_alpha=0, reg_lambda=1,\n",
       "                                     scale_pos_weight=1, seed=None, silent=True,\n",
       "                                     subsample=1, verbosity=1),\n",
       "             iid='warn', n_jobs=7,\n",
       "             param_grid={'alpha': [0.0, 0.1, 0.3],\n",
       "                         'colsample_bytree': [0.6, 0.8, 1.0],\n",
       "                         'gamma': [0.0, 1, 5], 'max_depth': [3, 4, 5],\n",
       "                         'min_child_weight': [1, 3, 5]},\n",
       "             pre_dispatch='2*n_jobs', refit=True, return_train_score=False,\n",
       "             scoring='roc_auc', verbose=3)"
      ]
     },
     "execution_count": 26,
     "metadata": {},
     "output_type": "execute_result"
    }
   ],
   "source": [
    "grid.fit(df_train[features].values, y=y_train)"
   ]
  },
  {
   "cell_type": "code",
   "execution_count": 29,
   "metadata": {},
   "outputs": [
    {
     "data": {
      "text/plain": [
       "0.9982059363576122"
      ]
     },
     "execution_count": 29,
     "metadata": {},
     "output_type": "execute_result"
    }
   ],
   "source": [
    "grid.best_score_"
   ]
  },
  {
   "cell_type": "code",
   "execution_count": 39,
   "metadata": {},
   "outputs": [],
   "source": [
    "with open('petrels.txt', 'w') as f:\n",
    "    for path in h5_files:\n",
    "        p = os.path.splitext(os.path.basename(path))[0]\n",
    "        f.write(p + '\\n')"
   ]
  },
  {
   "cell_type": "code",
   "execution_count": 38,
   "metadata": {},
   "outputs": [],
   "source": [
    "h5_files.sort()"
   ]
  },
  {
   "cell_type": "code",
   "execution_count": 46,
   "metadata": {},
   "outputs": [
    {
     "name": "stderr",
     "output_type": "stream",
     "text": [
      "/home/tracek/anaconda3/envs/audioexplorer/lib/python3.6/site-packages/chart_studio/plotly/plotly.py:248: UserWarning:\n",
      "\n",
      "Woah there! Look at all those points! Due to browser limitations, the Plotly SVG drawing functions have a hard time graphing more than 500k data points for line charts, or 40k points for other types of charts. Here are some suggestions:\n",
      "(1) Use the `plotly.graph_objs.Scattergl` trace object to generate a WebGl graph.\n",
      "(2) Trying using the image API to return an image instead of a graph URL\n",
      "(3) Use matplotlib\n",
      "(4) See if you can create your visualization with fewer data points\n",
      "\n",
      "If the visualization you're using aggregates points (e.g., box plot, histogram, etc.) you can disregard this warning.\n",
      "\n"
     ]
    },
    {
     "data": {
      "text/plain": [
       "'https://plot.ly/~tracewsl/337?share_key=tEoim097Z1ncGf88vmGQmm'"
      ]
     },
     "execution_count": 46,
     "metadata": {},
     "output_type": "execute_result"
    }
   ],
   "source": [
    "py.plot([go.Histogram(x=pred)], filename='Storm Petrel prediction score histogram') "
   ]
  },
  {
   "cell_type": "code",
   "execution_count": null,
   "metadata": {},
   "outputs": [],
   "source": []
  }
 ],
 "metadata": {
  "kernelspec": {
   "display_name": "Python 3",
   "language": "python",
   "name": "python3"
  },
  "language_info": {
   "codemirror_mode": {
    "name": "ipython",
    "version": 3
   },
   "file_extension": ".py",
   "mimetype": "text/x-python",
   "name": "python",
   "nbconvert_exporter": "python",
   "pygments_lexer": "ipython3",
   "version": "3.6.8"
  }
 },
 "nbformat": 4,
 "nbformat_minor": 2
}
