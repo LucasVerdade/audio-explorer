{
 "cells": [
  {
   "cell_type": "markdown",
   "metadata": {},
   "source": [
    "# Modelling\n",
    "\n",
    "Train and test model based on the features we have defined in the previous notebook."
   ]
  },
  {
   "cell_type": "code",
   "execution_count": 1,
   "metadata": {},
   "outputs": [],
   "source": [
    "%matplotlib inline\n",
    "\n",
    "import os\n",
    "import sys\n",
    "import glob\n",
    "import pandas as pd\n",
    "import xgboost as xgb\n",
    "import matplotlib.pyplot as plt\n",
    "import plotly.plotly as py\n",
    "import plotly.graph_objs as go\n",
    "from sklearn.model_selection import StratifiedKFold, GridSearchCV\n",
    "from xgboost import XGBClassifier\n",
    "from sklearn import metrics"
   ]
  },
  {
   "cell_type": "markdown",
   "metadata": {},
   "source": [
    "Load data and print all features / columns that are present."
   ]
  },
  {
   "cell_type": "code",
   "execution_count": 2,
   "metadata": {},
   "outputs": [
    {
     "data": {
      "text/plain": [
       "array(['freq_IQR', 'freq_Q25', 'freq_Q75', 'freq_mean', 'freq_median',\n",
       "       'freq_mode', 'freq_peak', 'offset', 'onset', 'pitch_IQR',\n",
       "       'pitch_Q25', 'pitch_Q75', 'pitch_max', 'pitch_mean',\n",
       "       'pitch_median', 'pitch_min', 'yaafe_Chroma.0', 'yaafe_Chroma.1',\n",
       "       'yaafe_Chroma.10', 'yaafe_Chroma.11', 'yaafe_Chroma.2',\n",
       "       'yaafe_Chroma.3', 'yaafe_Chroma.4', 'yaafe_Chroma.5',\n",
       "       'yaafe_Chroma.6', 'yaafe_Chroma.7', 'yaafe_Chroma.8',\n",
       "       'yaafe_Chroma.9', 'yaafe_LPC', 'yaafe_LSF.0', 'yaafe_LSF.1',\n",
       "       'yaafe_LSF.2', 'yaafe_LSF.3', 'yaafe_LSF.4', 'yaafe_LSF.5',\n",
       "       'yaafe_LSF.6', 'yaafe_LSF.7', 'yaafe_LSF.8', 'yaafe_LSF.9',\n",
       "       'yaafe_MFCC.0', 'yaafe_MFCC.1', 'yaafe_MFCC.10', 'yaafe_MFCC.11',\n",
       "       'yaafe_MFCC.12', 'yaafe_MFCC.2', 'yaafe_MFCC.3', 'yaafe_MFCC.4',\n",
       "       'yaafe_MFCC.5', 'yaafe_MFCC.6', 'yaafe_MFCC.7', 'yaafe_MFCC.8',\n",
       "       'yaafe_MFCC.9', 'yaafe_OBSI.0', 'yaafe_OBSI.1', 'yaafe_OBSI.2',\n",
       "       'yaafe_OBSI.3', 'yaafe_OBSI.4', 'yaafe_OBSI.5', 'yaafe_OBSI.6',\n",
       "       'yaafe_OBSI.7', 'yaafe_OBSI.8',\n",
       "       'yaafe_SpectralCrestFactorPerBand.0',\n",
       "       'yaafe_SpectralCrestFactorPerBand.1',\n",
       "       'yaafe_SpectralCrestFactorPerBand.10',\n",
       "       'yaafe_SpectralCrestFactorPerBand.11',\n",
       "       'yaafe_SpectralCrestFactorPerBand.12',\n",
       "       'yaafe_SpectralCrestFactorPerBand.13',\n",
       "       'yaafe_SpectralCrestFactorPerBand.14',\n",
       "       'yaafe_SpectralCrestFactorPerBand.15',\n",
       "       'yaafe_SpectralCrestFactorPerBand.16',\n",
       "       'yaafe_SpectralCrestFactorPerBand.17',\n",
       "       'yaafe_SpectralCrestFactorPerBand.18',\n",
       "       'yaafe_SpectralCrestFactorPerBand.2',\n",
       "       'yaafe_SpectralCrestFactorPerBand.3',\n",
       "       'yaafe_SpectralCrestFactorPerBand.4',\n",
       "       'yaafe_SpectralCrestFactorPerBand.5',\n",
       "       'yaafe_SpectralCrestFactorPerBand.6',\n",
       "       'yaafe_SpectralCrestFactorPerBand.7',\n",
       "       'yaafe_SpectralCrestFactorPerBand.8',\n",
       "       'yaafe_SpectralCrestFactorPerBand.9', 'yaafe_SpectralFlatness',\n",
       "       'yaafe_SpectralFlux', 'yaafe_SpectralRolloff',\n",
       "       'yaafe_SpectralVariation', 'petrel', 'filename'], dtype=object)"
      ]
     },
     "execution_count": 2,
     "metadata": {},
     "output_type": "execute_result"
    }
   ],
   "source": [
    "df_samples_all = pd.read_csv('s3://stormpetrels/samples/labels/samples_all.csv')\n",
    "df_samples_all.columns.values"
   ]
  },
  {
   "cell_type": "markdown",
   "metadata": {},
   "source": [
    "The data comes from number of files. Put some of them aside for testing and take rest for training."
   ]
  },
  {
   "cell_type": "code",
   "execution_count": 3,
   "metadata": {},
   "outputs": [
    {
     "data": {
      "text/plain": [
       "array(['STHELENA-02_20140605_200000_6', 'STHELENA-02_20140605_200000_9',\n",
       "       'STHELENA-02_20140605_200000_5', 'STHELENA-02_20140605_200000_8',\n",
       "       'STHELENA-02_20140605_200000_13', 'STHELENA-02_20140605_200000_3',\n",
       "       'STHELENA-02_20140605_200000_11', 'STHELENA-02_20140605_200000_7',\n",
       "       'STHELENA-02_20140605_200000_4', 'STHELENA-02_20140605_200000_1',\n",
       "       'STHELENA-02_20140605_200000_10', 'STHELENA-02_20140605_200000_2',\n",
       "       'STHELENA-02_20140605_200000_12'], dtype=object)"
      ]
     },
     "execution_count": 3,
     "metadata": {},
     "output_type": "execute_result"
    }
   ],
   "source": [
    "df_samples_all['filename'].unique()"
   ]
  },
  {
   "cell_type": "code",
   "execution_count": 4,
   "metadata": {},
   "outputs": [],
   "source": [
    "df_train = df_samples_all[~df_samples_all['filename'].str.contains('STHELENA-02_20140605_200000_1[0-9]')]\n",
    "y_train = df_train.pop('petrel')\n",
    "df_test = df_samples_all[df_samples_all['filename'].str.contains('STHELENA-02_20140605_200000_1[0-9]')]\n",
    "y_test = df_test.pop('petrel')"
   ]
  },
  {
   "cell_type": "markdown",
   "metadata": {},
   "source": [
    "`0` denotes *noise* and `1` *petrels*. Check how many we have for training and testing."
   ]
  },
  {
   "cell_type": "code",
   "execution_count": 5,
   "metadata": {},
   "outputs": [
    {
     "data": {
      "text/plain": [
       "1    1626\n",
       "0    1205\n",
       "Name: petrel, dtype: int64"
      ]
     },
     "execution_count": 5,
     "metadata": {},
     "output_type": "execute_result"
    }
   ],
   "source": [
    "y_train.value_counts()"
   ]
  },
  {
   "cell_type": "code",
   "execution_count": 6,
   "metadata": {},
   "outputs": [
    {
     "data": {
      "text/plain": [
       "1    613\n",
       "0    371\n",
       "Name: petrel, dtype: int64"
      ]
     },
     "execution_count": 6,
     "metadata": {},
     "output_type": "execute_result"
    }
   ],
   "source": [
    "y_test.value_counts()"
   ]
  },
  {
   "cell_type": "markdown",
   "metadata": {},
   "source": [
    "Each of records represents an onset that was detected by the algorithm. Some of these onsets were storm petrel calls, some were not. The labelling was done with Audio Explorer.\n",
    "\n",
    "## Features\n",
    "\n",
    "In the next step we're going to select features to use in our training. Later we will have to use the same test for prediction. It's worth noting that the algorithm is not sensitive to choice of specific features. In the [Features selection notebook](02_feature_selection.ipynb) we have arrived at a few sets that can be used for modelling. "
   ]
  },
  {
   "cell_type": "code",
   "execution_count": 7,
   "metadata": {},
   "outputs": [],
   "source": [
    "features =  ['freq_Q25', 'freq_Q75', 'freq_mean', 'freq_median',\n",
    "       'freq_mode', 'freq_peak', 'pitch_IQR',\n",
    "       'pitch_Q25', 'pitch_Q75', 'pitch_max', 'pitch_mean',\n",
    "       'pitch_median', 'pitch_min', 'yaafe_LPC', 'yaafe_LSF.0', 'yaafe_LSF.1',\n",
    "       'yaafe_LSF.2', 'yaafe_LSF.3', 'yaafe_LSF.4', 'yaafe_LSF.5',\n",
    "       'yaafe_LSF.6', 'yaafe_LSF.7', 'yaafe_LSF.8', 'yaafe_LSF.9',\n",
    "       'yaafe_MFCC.0', 'yaafe_MFCC.1', 'yaafe_MFCC.10', 'yaafe_MFCC.11',\n",
    "       'yaafe_MFCC.12', 'yaafe_MFCC.2', 'yaafe_MFCC.3', 'yaafe_MFCC.4',\n",
    "       'yaafe_MFCC.5', 'yaafe_MFCC.6', 'yaafe_MFCC.7', 'yaafe_MFCC.8',\n",
    "       'yaafe_MFCC.9', 'yaafe_OBSI.0', 'yaafe_OBSI.1', 'yaafe_OBSI.2',\n",
    "       'yaafe_OBSI.3', 'yaafe_OBSI.4', 'yaafe_OBSI.5', 'yaafe_OBSI.6',\n",
    "       'yaafe_OBSI.7', 'yaafe_OBSI.8', 'yaafe_SpectralFlatness',\n",
    "       'yaafe_SpectralFlux', 'yaafe_SpectralRolloff',\n",
    "       'yaafe_SpectralVariation']"
   ]
  },
  {
   "cell_type": "markdown",
   "metadata": {},
   "source": [
    "## XGBoost\n",
    "\n",
    "We will use [XGBoost](https://xgboost.readthedocs.io/en/latest/) library to build a binary classifier to recognise storm petrels. It should be noted that the algorithm parameters were not tuned yet."
   ]
  },
  {
   "cell_type": "code",
   "execution_count": 8,
   "metadata": {},
   "outputs": [
    {
     "name": "stdout",
     "output_type": "stream",
     "text": [
      "[0]\teval-error:0.013211\ttrain-error:0.020487\n",
      "Multiple eval metrics have been passed: 'train-error' will be used for early stopping.\n",
      "\n",
      "Will train until train-error hasn't improved in 20 rounds.\n",
      "[1]\teval-error:0.009146\ttrain-error:0.018368\n",
      "[2]\teval-error:0.010163\ttrain-error:0.018015\n",
      "[3]\teval-error:0.009146\ttrain-error:0.018368\n",
      "[4]\teval-error:0.009146\ttrain-error:0.018015\n",
      "[5]\teval-error:0.010163\ttrain-error:0.018721\n",
      "[6]\teval-error:0.010163\ttrain-error:0.018015\n",
      "[7]\teval-error:0.010163\ttrain-error:0.018015\n",
      "[8]\teval-error:0.009146\ttrain-error:0.018721\n",
      "[9]\teval-error:0.009146\ttrain-error:0.018015\n",
      "[10]\teval-error:0.009146\ttrain-error:0.018721\n",
      "[11]\teval-error:0.009146\ttrain-error:0.018015\n",
      "[12]\teval-error:0.009146\ttrain-error:0.018015\n",
      "[13]\teval-error:0.009146\ttrain-error:0.018015\n",
      "[14]\teval-error:0.010163\ttrain-error:0.018015\n",
      "[15]\teval-error:0.010163\ttrain-error:0.018015\n",
      "[16]\teval-error:0.009146\ttrain-error:0.018015\n",
      "[17]\teval-error:0.009146\ttrain-error:0.018015\n",
      "[18]\teval-error:0.009146\ttrain-error:0.018015\n",
      "[19]\teval-error:0.009146\ttrain-error:0.018015\n",
      "[20]\teval-error:0.009146\ttrain-error:0.018015\n",
      "[21]\teval-error:0.009146\ttrain-error:0.018015\n",
      "[22]\teval-error:0.009146\ttrain-error:0.018015\n",
      "Stopping. Best iteration:\n",
      "[2]\teval-error:0.010163\ttrain-error:0.018015\n",
      "\n"
     ]
    }
   ],
   "source": [
    "dtrain = xgb.DMatrix(df_train[features], label=y_train.values)\n",
    "dtest = xgb.DMatrix(df_test[features], label=y_test.values)\n",
    "param = {'max_depth': 3, 'eta': 0.1, 'silent': 0, 'objective': 'binary:logistic', 'subsample': 0.8}\n",
    "eval_metric = [\"auc\",\"error\"]\n",
    "watchlist = [(dtest, 'eval'), (dtrain, 'train')]\n",
    "\n",
    "bst = xgb.train(param, dtrain, num_boost_round=100, evals=watchlist, early_stopping_rounds=20)"
   ]
  },
  {
   "cell_type": "markdown",
   "metadata": {},
   "source": [
    "Check the relative feature importance."
   ]
  },
  {
   "cell_type": "code",
   "execution_count": 9,
   "metadata": {},
   "outputs": [
    {
     "data": {
      "text/plain": [
       "<matplotlib.axes._subplots.AxesSubplot at 0x7f88904f7668>"
      ]
     },
     "execution_count": 9,
     "metadata": {},
     "output_type": "execute_result"
    },
    {
     "data": {
      "image/png": "[encoded data removed]",
      "text/plain": [
       "<Figure size 1440x1440 with 1 Axes>"
      ]
     },
     "metadata": {
      "needs_background": "light"
     },
     "output_type": "display_data"
    }
   ],
   "source": [
    "fig, ax = plt.subplots(figsize=(20, 20))\n",
    "xgb.plot_importance(bst, ax=ax)"
   ]
  },
  {
   "cell_type": "markdown",
   "metadata": {},
   "source": [
    "Plot Receiver Operating Characteristic (ROC)"
   ]
  },
  {
   "cell_type": "code",
   "execution_count": 10,
   "metadata": {},
   "outputs": [
    {
     "data": {
      "image/png": "[encoded data removed]",
      "text/plain": [
       "<Figure size 720x720 with 1 Axes>"
      ]
     },
     "metadata": {
      "needs_background": "light"
     },
     "output_type": "display_data"
    }
   ],
   "source": [
    "pred_score = bst.predict(dtest)\n",
    "fpr, tpr, thresholds = metrics.roc_curve(y_test.values, pred_score)\n",
    "roc_auc = metrics.auc(fpr, tpr)\n",
    "\n",
    "plt.figure(figsize=(10,10))\n",
    "plt.title('Receiver Operating Characteristic')\n",
    "plt.plot(fpr, tpr, 'b', label = 'AUC = %0.3f' % roc_auc)\n",
    "plt.legend(loc = 'lower right')\n",
    "plt.plot([0, 1], [0, 1],'r--')\n",
    "plt.xlim([0, 1])\n",
    "plt.ylim([0, 1])\n",
    "plt.ylabel('True Positive Rate')\n",
    "plt.xlabel('False Positive Rate')\n",
    "plt.show()"
   ]
  },
  {
   "cell_type": "markdown",
   "metadata": {},
   "source": [
    "The graph is static and it's hard to check what values it takes. Let's use plotly instead."
   ]
  },
  {
   "cell_type": "code",
   "execution_count": 13,
   "metadata": {},
   "outputs": [
    {
     "name": "stderr",
     "output_type": "stream",
     "text": [
      "/anaconda3/envs/audioexplorer/lib/python3.6/site-packages/IPython/core/display.py:689: UserWarning:\n",
      "\n",
      "Consider using IPython.display.IFrame instead\n",
      "\n"
     ]
    },
    {
     "data": {
      "text/html": [
       "<iframe id=\"igraph\" scrolling=\"no\" style=\"border:none;\" seamless=\"seamless\" src=\"https://plot.ly/~tracewsl/339.embed\" height=\"525px\" width=\"100%\"></iframe>"
      ],
      "text/plain": [
       "<chart_studio.tools.PlotlyDisplay object>"
      ]
     },
     "execution_count": 13,
     "metadata": {},
     "output_type": "execute_result"
    }
   ],
   "source": [
    "trace1 = go.Scatter(x=fpr, y=tpr, \n",
    "                    mode='lines', \n",
    "                    line=dict(color='darkorange', width=2),\n",
    "                    name='ROC curve (area = %0.3f)' % roc_auc\n",
    "                   )\n",
    "\n",
    "trace2 = go.Scatter(x=[0, 1], y=[0, 1], \n",
    "                    mode='lines', \n",
    "                    line=dict(color='navy', width=2, dash='dash'),\n",
    "                    showlegend=False)\n",
    "\n",
    "layout = go.Layout(title='Receiver operating characteristic - storm petrels',\n",
    "                   xaxis=dict(title='False Positive Rate'),\n",
    "                   yaxis=dict(title='True Positive Rate'))\n",
    "\n",
    "fig = go.Figure(data=[trace1, trace2], layout=layout)\n",
    "py.iplot(fig, filename='Storm petrels ROC', sharing='public')"
   ]
  },
  {
   "cell_type": "markdown",
   "metadata": {},
   "source": [
    "## Predict\n",
    "\n",
    "Now that we have confidence in our model, let's run prediction over the complete data set. "
   ]
  },
  {
   "cell_type": "code",
   "execution_count": null,
   "metadata": {},
   "outputs": [],
   "source": [
    "h5_files = glob.glob('../data/features/h5/*.h5')\n",
    "dfs = []\n",
    "for path in h5_files:\n",
    "    df = pd.read_hdf(path)\n",
    "    name = os.path.splitext(os.path.basename(path))[0]\n",
    "    df['filename'] = name\n",
    "    dfs.append(df)\n",
    "    \n",
    "dfs = pd.concat(dfs)\n",
    "dfs = dfs.rename(columns={'freq_peak.1': 'freq_peak'})\n",
    "dfs = dfs.drop(columns=['freq_peak.2', 'freq_peak.3'])\n",
    "df_pred = dfs[features]\n",
    "p = xgb.DMatrix(df_pred)\n",
    "pred = bst.predict(p)\n",
    "dfs['petrel_prob'] = pred\n",
    "dfs['petrel'] = pred > 0.5"
   ]
  },
  {
   "cell_type": "code",
   "execution_count": null,
   "metadata": {},
   "outputs": [],
   "source": [
    "py.plot([go.Histogram(x=pred)], filename='Storm Petrel prediction score histogram') "
   ]
  },
  {
   "cell_type": "markdown",
   "metadata": {},
   "source": [
    "## Save the results\n",
    "\n",
    "Now that we have run the prediction over complete data set, let's save the results to file."
   ]
  },
  {
   "cell_type": "code",
   "execution_count": null,
   "metadata": {},
   "outputs": [],
   "source": [
    "sel_columns = ['filename', 'onset', 'offset', 'petrel', 'petrel_prob', 'freq_mean', 'freq_median', 'freq_mode',\n",
    "       'freq_Q25', 'freq_Q75', 'freq_IQR', 'freq_peak', 'pitch_median', 'pitch_mean', 'pitch_Q25', 'pitch_Q75', 'pitch_IQR', 'pitch_min',\n",
    "       'pitch_max']\n",
    "df_petrels = df[df['petrel']][sel_columns]\n",
    "df_petrels = df_petrels.sort_values(by=['filename', 'onset'])\n",
    "df_petrels.to_csv('storm_petrels.csv', index=False, float_format='%.3f')\n",
    "\n",
    "# dfs = dfs.sort_values(by=['filename', 'onset'])\n",
    "# dfs.to_csv('storm_petrels_all.csv', index=False, float_format='%.3f')"
   ]
  },
  {
   "cell_type": "markdown",
   "metadata": {},
   "source": [
    "## Bonus - better hyperparameters\n",
    "\n",
    "Search for optimal hyperparameters with stratified k fold crossvalidation."
   ]
  },
  {
   "cell_type": "code",
   "execution_count": null,
   "metadata": {},
   "outputs": [],
   "source": [
    "skf = StratifiedKFold(n_splits=3, shuffle = True, random_state = 1001)\n",
    "xgb_sk = XGBClassifier(learning_rate=0.02, n_estimators=1000, objective='binary:logistic', silent=True, nthread=1)\n",
    "\n",
    "params = {\n",
    " 'max_depth': [3, 4, 5],\n",
    " 'min_child_weight': [1, 3, 5],\n",
    " 'gamma': [0.0, 1, 5],\n",
    " 'alpha': [0.0, 0.1, 0.3],\n",
    " 'colsample_bytree': [0.6, 0.8, 1.0]\n",
    "}\n",
    "\n",
    "grid = GridSearchCV(estimator=xgb_sk, param_grid=params, scoring='roc_auc', n_jobs=7, \n",
    "                    cv=skf.split(df_train[features].values, y_train), verbose=3)\n",
    "\n",
    "grid.fit(df_train[features].values, y=y_train)\n",
    "print('Best score: ', grid.best_score_)"
   ]
  },
  {
   "cell_type": "code",
   "execution_count": null,
   "metadata": {},
   "outputs": [],
   "source": []
  },
  {
   "cell_type": "code",
   "execution_count": null,
   "metadata": {},
   "outputs": [],
   "source": []
  }
 ],
 "metadata": {
  "kernelspec": {
   "display_name": "Python 3",
   "language": "python",
   "name": "python3"
  },
  "language_info": {
   "codemirror_mode": {
    "name": "ipython",
    "version": 3
   },
   "file_extension": ".py",
   "mimetype": "text/x-python",
   "name": "python",
   "nbconvert_exporter": "python",
   "pygments_lexer": "ipython3",
   "version": "3.6.8"
  }
 },
 "nbformat": 4,
 "nbformat_minor": 2
}
